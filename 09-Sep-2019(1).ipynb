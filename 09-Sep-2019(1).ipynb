{
 "cells": [
  {
   "cell_type": "markdown",
   "metadata": {},
   "source": [
    "### Factorial with Recursion"
   ]
  },
  {
   "cell_type": "code",
   "execution_count": 24,
   "metadata": {},
   "outputs": [
    {
     "name": "stdout",
     "output_type": "stream",
     "text": [
      "factorial has been called with n = 10\n",
      "factorial has been called with n = 9\n",
      "factorial has been called with n = 8\n",
      "factorial has been called with n = 7\n",
      "factorial has been called with n = 6\n",
      "factorial has been called with n = 5\n",
      "factorial has been called with n = 4\n",
      "factorial has been called with n = 3\n",
      "factorial has been called with n = 2\n",
      "factorial has been called with n = 1\n",
      "result for  2  * factorial( 1 ):  2\n",
      "result for  3  * factorial( 2 ):  6\n",
      "result for  4  * factorial( 3 ):  24\n",
      "result for  5  * factorial( 4 ):  120\n",
      "result for  6  * factorial( 5 ):  720\n",
      "result for  7  * factorial( 6 ):  5040\n",
      "result for  8  * factorial( 7 ):  40320\n",
      "result for  9  * factorial( 8 ):  362880\n",
      "result for  10  * factorial( 9 ):  3628800\n",
      "3628800\n"
     ]
    }
   ],
   "source": [
    "def factorial(n):\n",
    "    print(\"factorial has been called with n = \" + str(n))\n",
    "    if n == 1:\n",
    "        return 1\n",
    "    else:\n",
    "        res = n * factorial(n-1)\n",
    "        print(\"result for \", n, \" * factorial(\" ,n-1, \"): \",res)\n",
    "        return res\n",
    "\n",
    "print(factorial(10))"
   ]
  },
  {
   "cell_type": "code",
   "execution_count": 18,
   "metadata": {},
   "outputs": [
    {
     "name": "stdout",
     "output_type": "stream",
     "text": [
      "720\n"
     ]
    }
   ],
   "source": [
    "def factorial(n):\n",
    "    if n==1:\n",
    "        return 1\n",
    "    else:\n",
    "        res=n*factorial(n-1)\n",
    "        return res\n",
    "print(factorial (6))"
   ]
  },
  {
   "cell_type": "markdown",
   "metadata": {},
   "source": [
    "### Iterations or Loops"
   ]
  },
  {
   "cell_type": "code",
   "execution_count": 25,
   "metadata": {},
   "outputs": [
    {
     "data": {
      "text/plain": [
       "range(0, 5)"
      ]
     },
     "execution_count": 25,
     "metadata": {},
     "output_type": "execute_result"
    }
   ],
   "source": [
    "range(5) # 0,1,2,3,4"
   ]
  },
  {
   "cell_type": "code",
   "execution_count": 26,
   "metadata": {},
   "outputs": [
    {
     "data": {
      "text/plain": [
       "range(1, 5)"
      ]
     },
     "execution_count": 26,
     "metadata": {},
     "output_type": "execute_result"
    }
   ],
   "source": [
    "range(1,5) #1,2,3,4"
   ]
  },
  {
   "cell_type": "markdown",
   "metadata": {},
   "source": [
    "### 1. For Loop"
   ]
  },
  {
   "cell_type": "code",
   "execution_count": 28,
   "metadata": {},
   "outputs": [
    {
     "name": "stdout",
     "output_type": "stream",
     "text": [
      "0\n",
      "1\n",
      "2\n",
      "3\n",
      "4\n"
     ]
    }
   ],
   "source": [
    "for i in range(5):\n",
    "    print(i)"
   ]
  },
  {
   "cell_type": "code",
   "execution_count": 29,
   "metadata": {},
   "outputs": [],
   "source": [
    "s=\"hello\"\n"
   ]
  },
  {
   "cell_type": "code",
   "execution_count": 30,
   "metadata": {},
   "outputs": [
    {
     "name": "stdout",
     "output_type": "stream",
     "text": [
      "h\n",
      "e\n",
      "l\n",
      "l\n",
      "o\n"
     ]
    }
   ],
   "source": [
    "for i in s:\n",
    "    print(i)"
   ]
  },
  {
   "cell_type": "code",
   "execution_count": 36,
   "metadata": {},
   "outputs": [
    {
     "name": "stdout",
     "output_type": "stream",
     "text": [
      "h,e,l,l,o,"
     ]
    }
   ],
   "source": [
    "# Print \"hello\" in sngle line saperated by \"comma\"\n",
    "for i in s:\n",
    "    print(i,end=\",\")"
   ]
  },
  {
   "cell_type": "code",
   "execution_count": 37,
   "metadata": {},
   "outputs": [
    {
     "name": "stdout",
     "output_type": "stream",
     "text": [
      "h\n",
      "e\n",
      "l\n",
      "l\n",
      "o\n"
     ]
    }
   ],
   "source": [
    "for i in s:\n",
    "    print(i,sep=\",\")"
   ]
  },
  {
   "cell_type": "code",
   "execution_count": 39,
   "metadata": {},
   "outputs": [
    {
     "name": "stdout",
     "output_type": "stream",
     "text": [
      "s\n",
      ",\n",
      "o\n",
      ",\n",
      "n\n",
      ",\n",
      "u\n"
     ]
    }
   ],
   "source": [
    "s1=\"s,o,n,u\"\n",
    "for i in s1:\n",
    "    print(i,sep=\",\")"
   ]
  },
  {
   "cell_type": "code",
   "execution_count": 40,
   "metadata": {},
   "outputs": [
    {
     "name": "stdout",
     "output_type": "stream",
     "text": [
      "s,,,o,,,n,,,u,"
     ]
    }
   ],
   "source": [
    "s1=\"s,o,n,u\"\n",
    "for i in s1:\n",
    "    print(i,end=\",\")"
   ]
  },
  {
   "cell_type": "code",
   "execution_count": 42,
   "metadata": {},
   "outputs": [
    {
     "name": "stdout",
     "output_type": "stream",
     "text": [
      "45,55\n",
      "45 55\n",
      "45 55,"
     ]
    }
   ],
   "source": [
    "print(45,55,sep=\",\")\n",
    "print(45,55)\n",
    "print(45,55,end=\",\")"
   ]
  },
  {
   "cell_type": "code",
   "execution_count": 47,
   "metadata": {},
   "outputs": [
    {
     "name": "stdout",
     "output_type": "stream",
     "text": [
      "2 4 6 8 10 "
     ]
    }
   ],
   "source": [
    "for i in range(1,11):\n",
    "    if i%2 == 0:\n",
    "        print(i,end=\" \")"
   ]
  },
  {
   "cell_type": "code",
   "execution_count": 53,
   "metadata": {},
   "outputs": [
    {
     "name": "stdout",
     "output_type": "stream",
     "text": [
      "1 3 5 7 9 "
     ]
    }
   ],
   "source": [
    "# Without using if condition\n",
    "for i in range(2,11,2):\n",
    "    #if i%2 == 0:\n",
    "        print(i,end=\" \")"
   ]
  },
  {
   "cell_type": "code",
   "execution_count": 56,
   "metadata": {},
   "outputs": [
    {
     "name": "stdout",
     "output_type": "stream",
     "text": [
      "1 3 5 7 9 "
     ]
    }
   ],
   "source": [
    "for i ifor i in range(7,1000,7):\n",
    "    if i%2 == 0:\n",
    "        print(i,end=\" , \")n range(1,11,2):\n",
    "   # if i%2 == 0:\n",
    "        print(i,end=\" \")"
   ]
  },
  {
   "cell_type": "code",
   "execution_count": 57,
   "metadata": {},
   "outputs": [
    {
     "name": "stdout",
     "output_type": "stream",
     "text": [
      "1 2 3 4 5 6 7 8 9 10 "
     ]
    }
   ],
   "source": [
    "for i in range(1,11,1):\n",
    "   # if i%2 == 0:\n",
    "        print(i,end=\" \")"
   ]
  },
  {
   "cell_type": "code",
   "execution_count": 64,
   "metadata": {},
   "outputs": [
    {
     "name": "stdout",
     "output_type": "stream",
     "text": [
      "7 , 14 , 21 , 28 , 35 , 42 , 49 , 56 , 63 , 70 , 77 , 84 , 91 , 98 , 105 , 112 , 119 , 126 , 133 , 140 , 147 , 154 , 161 , 168 , 175 , 182 , 189 , 196 , 203 , 210 , 217 , 224 , 231 , 238 , 245 , 252 , 259 , 266 , 273 , 280 , 287 , 294 , 301 , 308 , 315 , 322 , 329 , 336 , 343 , 350 , 357 , 364 , 371 , 378 , 385 , 392 , 399 , 406 , 413 , 420 , 427 , 434 , 441 , 448 , 455 , 462 , 469 , 476 , 483 , 490 , 497 , 504 , 511 , 518 , 525 , 532 , 539 , 546 , 553 , 560 , 567 , 574 , 581 , 588 , 595 , 602 , 609 , 616 , 623 , 630 , 637 , 644 , 651 , 658 , 665 , 672 , 679 , 686 , 693 , 700 , 707 , 714 , 721 , 728 , 735 , 742 , 749 , 756 , 763 , 770 , 777 , 784 , 791 , 798 , 805 , 812 , 819 , 826 , 833 , 840 , 847 , 854 , 861 , 868 , 875 , 882 , 889 , 896 , 903 , 910 , 917 , 924 , 931 , 938 , 945 , 952 , 959 , 966 , 973 , 980 , 987 , 994 , "
     ]
    }
   ],
   "source": [
    "for i in range(7,1000,7):\n",
    "    #if i%2 == 0:\n",
    "        print(i,end=\" , \")"
   ]
  },
  {
   "cell_type": "code",
   "execution_count": 65,
   "metadata": {},
   "outputs": [
    {
     "name": "stdout",
     "output_type": "stream",
     "text": [
      "14 , 28 , 42 , 56 , 70 , 84 , 98 , 112 , 126 , 140 , 154 , 168 , 182 , 196 , 210 , 224 , 238 , 252 , 266 , 280 , 294 , 308 , 322 , 336 , 350 , 364 , 378 , 392 , 406 , 420 , 434 , 448 , 462 , 476 , 490 , 504 , 518 , 532 , 546 , 560 , 574 , 588 , 602 , 616 , 630 , 644 , 658 , 672 , 686 , 700 , 714 , 728 , 742 , 756 , 770 , 784 , 798 , 812 , 826 , 840 , 854 , 868 , 882 , 896 , 910 , 924 , 938 , 952 , 966 , 980 , 994 , "
     ]
    }
   ],
   "source": [
    "for i in range(7,1000,7):\n",
    "    if i%2 == 0:\n",
    "        print(i,end=\" , \")"
   ]
  },
  {
   "cell_type": "code",
   "execution_count": 71,
   "metadata": {},
   "outputs": [
    {
     "name": "stdout",
     "output_type": "stream",
     "text": [
      "994 , 980 , 966 , 952 , 938 , 924 , 910 , 896 , 882 , 868 , 854 , 840 , 826 , 812 , 798 , 784 , 770 , 756 , 742 , 728 , 714 , 700 , 686 , 672 , 658 , 644 , 630 , 616 , 602 , 588 , 574 , 560 , 546 , 532 , 518 , 504 , 490 , 476 , 462 , 448 , 434 , 420 , 406 , 392 , 378 , 364 , 350 , 336 , 322 , 308 , 294 , 280 , 266 , 252 , 238 , 224 , 210 , 196 , 182 , 168 , 154 , 140 , 126 , 112 , 98 , 84 , 70 , 56 , 42 , 28 , 14 , "
     ]
    }
   ],
   "source": [
    "for i in range(994,6,-7):\n",
    "    if i%2 == 0:\n",
    "        print(i,end=\" , \")"
   ]
  },
  {
   "cell_type": "code",
   "execution_count": 72,
   "metadata": {},
   "outputs": [
    {
     "name": "stdout",
     "output_type": "stream",
     "text": [
      "50 , 52 , 54 , 56 , 58 , 60 , 62 , 64 , 66 , 68 , 70 , 72 , 74 , 76 , 78 , 80 , 82 , 84 , 86 , 88 , 90 , 92 , 94 , 96 , 98 , "
     ]
    }
   ],
   "source": [
    "for i in range(50,100,2):\n",
    "    #if i%2 == 0:\n",
    "        print(i,end=\" , \")"
   ]
  },
  {
   "cell_type": "code",
   "execution_count": 74,
   "metadata": {},
   "outputs": [
    {
     "name": "stdout",
     "output_type": "stream",
     "text": [
      "98 , 96 , 94 , 92 , 90 , 88 , 86 , 84 , 82 , 80 , 78 , 76 , 74 , 72 , 70 , 68 , 66 , 64 , 62 , 60 , 58 , 56 , 54 , 52 , 50 , "
     ]
    }
   ],
   "source": [
    "for i in range(98,49,-2):\n",
    "    #if i%2 == 0:\n",
    "        print(i,end=\" , \")"
   ]
  },
  {
   "cell_type": "markdown",
   "metadata": {},
   "source": [
    "### 2.While Loop"
   ]
  },
  {
   "cell_type": "code",
   "execution_count": 2,
   "metadata": {},
   "outputs": [
    {
     "name": "stdout",
     "output_type": "stream",
     "text": [
      "1 2 3 4 5 6 7 8 9 10 "
     ]
    }
   ],
   "source": [
    "i=1\n",
    "while i<=10 :\n",
    "    print(i,end=\" \")\n",
    "    i=i+1\n"
   ]
  },
  {
   "cell_type": "code",
   "execution_count": 3,
   "metadata": {},
   "outputs": [
    {
     "name": "stdout",
     "output_type": "stream",
     "text": [
      "3,4,5,6,7,8,9,10,11,12,13,14,15,16,17,18,19,20,21,22,23,24,25,26,27,28,29,30,31,32,33,34,35,36,37,38,39,40,41,42,43,44,45,46,47,48,49,50,51,52,53,54,55,56,57,58,59,60,61,62,63,64,65,66,67,68,69,70,71,72,73,74,75,76,77,78,79,80,81,82,83,84,85,86,87,88,89,90,91,92,93,94,95,96,97,98,99,100,"
     ]
    }
   ],
   "source": [
    "i=3\n",
    "while (i<=100) :\n",
    "## if i%3==0:\n",
    "        print(i,end=\",\")\n",
    "        i=i+1\n",
    "    "
   ]
  },
  {
   "cell_type": "code",
   "execution_count": 5,
   "metadata": {},
   "outputs": [
    {
     "name": "stdout",
     "output_type": "stream",
     "text": [
      "100,97,94,91,88,85,82,79,76,73,70,67,64,61,58,55,52,49,46,43,40,37,34,31,28,25,22,19,16,13,10,7,4,"
     ]
    }
   ],
   "source": [
    "i=100\n",
    "while (i>=3) :\n",
    "## if i%3==0:\n",
    "        print(i,end=\",\")\n",
    "        i=i-3\n",
    "    "
   ]
  },
  {
   "cell_type": "code",
   "execution_count": 14,
   "metadata": {},
   "outputs": [
    {
     "name": "stdout",
     "output_type": "stream",
     "text": [
      "S\n",
      "o\n",
      "n\n",
      "u\n"
     ]
    }
   ],
   "source": [
    "s=\"Sonu\"\n",
    "i=0\n",
    "while(i<len(s)):\n",
    "    print(s[i])\n",
    "    i=i+1"
   ]
  },
  {
   "cell_type": "code",
   "execution_count": 2,
   "metadata": {},
   "outputs": [
    {
     "name": "stdout",
     "output_type": "stream",
     "text": [
      "enter value for n:100\n",
      "0,1,2,3,4,5,6,7,8,9,10,11,12,13,14,15,16,17,18,19,20,21,22,23,24,25,26,27,28,29,30,31,32,33,34,35,36,37,38,39,40,41,42,43,44,45,46,47,48,49,50,51,52,53,54,55,56,57,58,59,60,61,62,63,64,65,66,67,68,69,70,71,72,73,74,75,76,77,78,79,80,81,82,83,84,85,86,87,88,89,90,91,92,93,94,95,96,97,98,99,100,"
     ]
    }
   ],
   "source": [
    "### Function to print n natural numbers using for loop\n",
    "n=int(input(\"enter value for n:\"))\n",
    "def natural(n):\n",
    "    for i in range(0,n+1):\n",
    "        print(i,end=\",\")\n",
    "natural(n)"
   ]
  },
  {
   "cell_type": "code",
   "execution_count": 3,
   "metadata": {},
   "outputs": [
    {
     "name": "stdout",
     "output_type": "stream",
     "text": [
      "500,502,504,506,508,510,512,514,516,518,520,522,524,526,528,530,532,534,536,538,540,542,544,546,548,550,"
     ]
    }
   ],
   "source": [
    "#Fnction to print the alternate values in a given range in the same line\n",
    "#range(500,550)---->500,502,504....548\n",
    "#Starts with inclusive and ends with exclusive\n",
    "def alternate(start,end):\n",
    "    for i in range(start,end+1,2):\n",
    "        print(i,end=\",\")\n",
    "alternate(500,550)"
   ]
  },
  {
   "cell_type": "markdown",
   "metadata": {},
   "source": [
    "# TASKS :"
   ]
  },
  {
   "cell_type": "code",
   "execution_count": null,
   "metadata": {},
   "outputs": [],
   "source": [
    "# 1.Iterate the integers from 1 to 50, for multiples of 3 print “Fizz” and for multiples of 5 print “Buzz” and for multiples of both 3 and 5 print “FizzBuzz”.\n",
    "i=1\n",
    "while (i<=50) :\n",
    "    if i%3==0:\n",
    "        print(\"Fizz\")\n",
    "        if i%5==0:\n",
    "            print(\"buzz\")\n",
    "            if i%3 ==0 and i%5==0 :\n",
    "                print(\"FizzBuzz\")\n",
    "        i=i+1"
   ]
  },
  {
   "cell_type": "code",
   "execution_count": null,
   "metadata": {},
   "outputs": [],
   "source": [
    "# 2.Program to print the multiplication table from range between 10 to 20 (Ex: 3 x 10 = 30….)\n",
    "i=1\n",
    "while(i<10):\n",
    "    print(10,'x',i,'=',10*i)\n",
    "    "
   ]
  },
  {
   "cell_type": "code",
   "execution_count": null,
   "metadata": {},
   "outputs": [],
   "source": [
    "# Tasks in While Loop\n",
    "# 1.Print n Natural Numbers using while loop\n",
    "def natural(n):\n",
    "    #n=int(input(\"enter value for n:\"):\n",
    "          i=1\n",
    "          while(0<=n+1):\n",
    "                print(i,end=\",\")\n",
    "natural(10)\n"
   ]
  },
  {
   "cell_type": "code",
   "execution_count": null,
   "metadata": {},
   "outputs": [],
   "source": [
    "# Program to print n number of iterations using while loop with if statement\n",
    "#ex: a=1 and b=1 b==4 loop terminated\n"
   ]
  }
 ],
 "metadata": {
  "kernelspec": {
   "display_name": "Python 3",
   "language": "python",
   "name": "python3"
  },
  "language_info": {
   "codemirror_mode": {
    "name": "ipython",
    "version": 3
   },
   "file_extension": ".py",
   "mimetype": "text/x-python",
   "name": "python",
   "nbconvert_exporter": "python",
   "pygments_lexer": "ipython3",
   "version": "3.7.3"
  }
 },
 "nbformat": 4,
 "nbformat_minor": 2
}
