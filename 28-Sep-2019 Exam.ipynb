{
 "cells": [
  {
   "cell_type": "code",
   "execution_count": 20,
   "metadata": {},
   "outputs": [
    {
     "name": "stdout",
     "output_type": "stream",
     "text": [
      "is\n"
     ]
    }
   ],
   "source": [
    "## Word repetition\n",
    "s=\"sonu is son of SoNu. moNu, is son of monu keerthi\"\n",
    "f=s.split()\n",
    "for i in range(0,len(f)):\n",
    "    f[i]=f[i].lower()\n",
    "for j in range(0,len(f)):\n",
    "    g=f[j]\n",
    "    w=\"\"\n",
    "    for k in g:\n",
    "        if (k not in [\",\",\".\",\";\",\"!\"]):\n",
    "            w=w+k\n",
    "    f[j]=w\n",
    "x=[]\n",
    "q={}\n",
    "for h in range(0,len(f)):\n",
    "    e=f[h]\n",
    "    p=f.count(e)\n",
    "    q[e]=p\n",
    "s=max(q.values())\n",
    "for  z in q:\n",
    "    if(q[z]==s):\n",
    "        x.append(z)\n",
    "x.sort()\n",
    "print(x[0])\n",
    "    \n",
    " \n",
    "    \n",
    "    \n"
   ]
  },
  {
   "cell_type": "code",
   "execution_count": 25,
   "metadata": {},
   "outputs": [
    {
     "name": "stdout",
     "output_type": "stream",
     "text": [
      "1 3 3 1\n",
      "affa\n"
     ]
    }
   ],
   "source": [
    "### Encryption\n",
    "d={1:'a',2:'b',3:'f'}\n",
    "w=\"\"\n",
    "f=input().split()\n",
    "for i in f:\n",
    "    w=w+d[int(i)]\n",
    "print(w)\n"
   ]
  },
  {
   "cell_type": "code",
   "execution_count": null,
   "metadata": {},
   "outputs": [],
   "source": [
    "# even\n",
    "g=[]\n",
    "n=input().split()\n",
    "while(True): \n",
    "    for i in range(0,len(f)):\n",
    "        if(n[i]!=\"EXIT\"):\n",
    "            if(int(n[i])%2==0):\n",
    "                g.append(int(n[i]))\n",
    "                print(int(n[i]),end=\" \")  \n",
    "        else:\n",
    "            print(\"\\n\")\n",
    "            print(max(g))\n",
    "            break\n",
    "    \n",
    "    \n",
    "    \n"
   ]
  },
  {
   "cell_type": "code",
   "execution_count": null,
   "metadata": {},
   "outputs": [],
   "source": []
  }
 ],
 "metadata": {
  "kernelspec": {
   "display_name": "Python 3",
   "language": "python",
   "name": "python3"
  },
  "language_info": {
   "codemirror_mode": {
    "name": "ipython",
    "version": 3
   },
   "file_extension": ".py",
   "mimetype": "text/x-python",
   "name": "python",
   "nbconvert_exporter": "python",
   "pygments_lexer": "ipython3",
   "version": "3.7.3"
  }
 },
 "nbformat": 4,
 "nbformat_minor": 2
}
