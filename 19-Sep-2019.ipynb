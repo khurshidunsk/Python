{
 "cells": [
  {
   "cell_type": "markdown",
   "metadata": {},
   "source": [
    "# Comprehensions\n",
    "- Shorthand for a loop\n",
    "## Types of Comprehensions\n",
    "#### 1.List Comprehension\n",
    "    - Syntax : [condition for item in sequence]\n",
    "    - Ex:[i**2 for i in range(1,10)]\n",
    "#### 2.Set Comprehension\n",
    "    - Syntax : {condition for item in sequence}\n",
    "    - Ex:{i**2 for i in range(1,10)}\n",
    "#### 3.Dictionary Comprehension\n",
    "    - Syntax : {key:value for item in sequence}\n",
    "    - Ex     : {i:i**2 for i in range(1,10}"
   ]
  },
  {
   "cell_type": "code",
   "execution_count": 4,
   "metadata": {},
   "outputs": [
    {
     "name": "stdout",
     "output_type": "stream",
     "text": [
      "[1, 4, 9, 16, 25, 36, 49, 64, 81]\n"
     ]
    }
   ],
   "source": [
    "# To print square of numbers in a list\n",
    "list2=[]\n",
    "for i in range(1,10):\n",
    "    list2.append(i**2)\n",
    "print(list2)"
   ]
  },
  {
   "cell_type": "code",
   "execution_count": 6,
   "metadata": {},
   "outputs": [
    {
     "name": "stdout",
     "output_type": "stream",
     "text": [
      "[1, 4, 9, 16, 25, 36, 49, 64, 81]\n"
     ]
    }
   ],
   "source": [
    "# To print square of numbers in a list using comprehensions\n",
    "list2=[i**2 for i in range(1,10)]\n",
    "print(list2)"
   ]
  },
  {
   "cell_type": "code",
   "execution_count": 10,
   "metadata": {},
   "outputs": [
    {
     "name": "stdout",
     "output_type": "stream",
     "text": [
      "['students', 'from', 'cse', 'and', 'ece', 'are', 'attending', 'for', 'mstp', 'classes']\n"
     ]
    }
   ],
   "source": [
    "para='students from cse and ece are attending for mstp classes'\n",
    "list1=para.split()\n",
    "print(list1)"
   ]
  },
  {
   "cell_type": "code",
   "execution_count": 11,
   "metadata": {},
   "outputs": [
    {
     "name": "stdout",
     "output_type": "stream",
     "text": [
      "[['students', 'from', 'cse', 'and', 'ece', 'are', 'attending', 'for', 'mstp', 'classes']]\n"
     ]
    }
   ],
   "source": [
    "# Using comprehensions\n",
    "para='students from cse and ece are attending for mstp classes'\n",
    "list1=[para.split()]\n",
    "print(list1)"
   ]
  },
  {
   "cell_type": "markdown",
   "metadata": {},
   "source": [
    "## List comprehensions using if conditions\n",
    "- Syntax : [expression for item in range(1,10) if condition]"
   ]
  },
  {
   "cell_type": "code",
   "execution_count": 18,
   "metadata": {},
   "outputs": [
    {
     "name": "stdout",
     "output_type": "stream",
     "text": [
      "[2, 4, 6, 8]\n",
      "[1, 3, 5, 7, 9]\n"
     ]
    }
   ],
   "source": [
    "# To Print even numbers using comprehensions \n",
    "num=[i for i in range(1,10) if i%2==0]\n",
    "num1=[i for i in range(1,10) if i%2!=0]\n",
    "print(num)\n",
    "print(num1)"
   ]
  },
  {
   "cell_type": "code",
   "execution_count": 31,
   "metadata": {},
   "outputs": [
    {
     "name": "stdout",
     "output_type": "stream",
     "text": [
      "1\n",
      "2\n",
      "3\n",
      "4\n",
      "5\n",
      "6\n",
      "7\n",
      "8\n",
      "9\n",
      "10\n",
      "2\n",
      "4\n",
      "6\n",
      "8\n",
      "10\n",
      "12\n",
      "14\n",
      "16\n",
      "18\n",
      "20\n",
      "3\n",
      "6\n",
      "9\n",
      "12\n",
      "15\n",
      "18\n",
      "21\n",
      "24\n",
      "27\n",
      "30\n",
      "4\n",
      "8\n",
      "12\n",
      "16\n",
      "20\n",
      "24\n",
      "28\n",
      "32\n",
      "36\n",
      "40\n"
     ]
    }
   ],
   "source": [
    "# To print Multiplication table using nested loop\n",
    "for i in range(1,5):\n",
    "    for j in range(1,11):\n",
    "        print(i*j)"
   ]
  },
  {
   "cell_type": "code",
   "execution_count": 36,
   "metadata": {},
   "outputs": [
    {
     "name": "stdout",
     "output_type": "stream",
     "text": [
      "[[1, 2, 3, 4, 5, 6, 7, 8, 9, 10], [2, 4, 6, 8, 10, 12, 14, 16, 18, 20], [3, 6, 9, 12, 15, 18, 21, 24, 27, 30], [4, 8, 12, 16, 20, 24, 28, 32, 36, 40]]\n"
     ]
    }
   ],
   "source": [
    " # using comprehensions \n",
    "l=[[i*j for j in range(1,11)]for i in range(1,5)]\n",
    "print(l)"
   ]
  },
  {
   "cell_type": "code",
   "execution_count": 38,
   "metadata": {},
   "outputs": [
    {
     "name": "stdout",
     "output_type": "stream",
     "text": [
      "[4, 16, 36, 64, 100]\n"
     ]
    }
   ],
   "source": [
    "# Write a program to check whether the even numbers in a range and print the suare of even numbers\n",
    "l=[i**2 for i in range(1,11) if i%2==0]\n",
    "print(l)"
   ]
  },
  {
   "cell_type": "code",
   "execution_count": 48,
   "metadata": {},
   "outputs": [
    {
     "name": "stdout",
     "output_type": "stream",
     "text": [
      "[1, 'a', 'b', 'a', 5, 'a', 7, 'a', 'b', 'a']\n"
     ]
    }
   ],
   "source": [
    "# List comprehensions using if else if\n",
    "list1=[1,2,3,4,5,6,7,8,9,20]\n",
    "list2=[]\n",
    "for i in list1:\n",
    "    if i%2==0:\n",
    "        list2.append('a')\n",
    "    elif i%3==0:\n",
    "        list2.append('b')\n",
    "    else:\n",
    "        list2.append(i)\n",
    "print(list2)"
   ]
  },
  {
   "cell_type": "code",
   "execution_count": 52,
   "metadata": {},
   "outputs": [
    {
     "name": "stdout",
     "output_type": "stream",
     "text": [
      "[1, 'a', 'b', 'a', 5, 'a', 7, 'a', 'b']\n"
     ]
    }
   ],
   "source": [
    "list2=['a'if i%2==0 else 'b'if i%3==0 else i for i in range(1,10)]\n",
    "print(list2)"
   ]
  },
  {
   "cell_type": "code",
   "execution_count": null,
   "metadata": {},
   "outputs": [],
   "source": []
  }
 ],
 "metadata": {
  "kernelspec": {
   "display_name": "Python 3",
   "language": "python",
   "name": "python3"
  },
  "language_info": {
   "codemirror_mode": {
    "name": "ipython",
    "version": 3
   },
   "file_extension": ".py",
   "mimetype": "text/x-python",
   "name": "python",
   "nbconvert_exporter": "python",
   "pygments_lexer": "ipython3",
   "version": "3.7.3"
  }
 },
 "nbformat": 4,
 "nbformat_minor": 2
}
