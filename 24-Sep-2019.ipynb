{
 "cells": [
  {
   "cell_type": "markdown",
   "metadata": {},
   "source": [
    "#### Data Encryption : is a security method in which infoematon is encoded in such a way that only authorized user can read it.It uses encryption algoritham to generate cipher text that can only be read if decrypted\n",
    "#### Data Decrytgion : is a security process of taking encoded or encrypted text and converting it back into text that u or the computer can read and understand\n",
    "### Types :\n",
    "#### Symmetric(Private Key):uses a single key that will be shared among the people who need to recieve the message\n",
    "#### Asymmeetric Key(Public Key):Uses a pair of public and private key to encrypt and decrypt message"
   ]
  },
  {
   "cell_type": "code",
   "execution_count": 4,
   "metadata": {},
   "outputs": [
    {
     "name": "stdout",
     "output_type": "stream",
     "text": [
      "enter message: sonu\n",
      "yuta"
     ]
    }
   ],
   "source": [
    "# Encrypted message \n",
    "msg=input(\"enter message: \")\n",
    "key_file='abcdefghijklmnopqrstuvwxyz'\n",
    "key=6\n",
    "for char in msg:\n",
    "    pos=key_file.find(char)\n",
    "    new_pos=(pos+key)%26\n",
    "    print(key_file[new_pos],end='')"
   ]
  },
  {
   "cell_type": "code",
   "execution_count": 12,
   "metadata": {},
   "outputs": [
    {
     "name": "stdout",
     "output_type": "stream",
     "text": [
      "enter message: sonu\n",
      "rnmt"
     ]
    }
   ],
   "source": [
    "msg=input(\"enter message: \")\n",
    "key=6\n",
    "key_file='abcdefghijklmnopqrstuvwxyz'\n",
    "#z=ord(key_file)\n",
    "for char in msg:\n",
    "    pos=ord(char)\n",
    "    new_pos=(pos+key)%26\n",
    "    print(key_file[new_pos],end='')\n"
   ]
  },
  {
   "cell_type": "code",
   "execution_count": 44,
   "metadata": {},
   "outputs": [
    {
     "name": "stdout",
     "output_type": "stream",
     "text": [
      "enter msg:jaya\n",
      "pgfg\n"
     ]
    }
   ],
   "source": [
    "msg=input(\"enter msg:\")\n",
    "key=6\n",
    "enc=\"\"\n",
    "for char in msg:\n",
    "    k=ord(char)+key\n",
    "    if k>=97 and k<122:\n",
    "        enc=enc+chr(k)\n",
    "    else:\n",
    "        h=97+(k-122)\n",
    "        enc+=chr(h)\n",
    "print(enc)\n",
    "        "
   ]
  },
  {
   "cell_type": "code",
   "execution_count": 12,
   "metadata": {},
   "outputs": [],
   "source": [
    "keydfile=\"key.txt\"\n",
    "def createkeyFile(keyfile):\n",
    "    with open(\"key.txt\",\"w\")as f:\n",
    "        for i in range(10):\n",
    "            if i<6 :\n",
    "                f.write(str(i)+\" \"+str(i+4)+\"\\n\")\n",
    "            else:\n",
    "                f.write(str(i)+\" \"+str(i-6)+\"\\n\")\n",
    "createkeyFile(\"keyfile\")"
   ]
  },
  {
   "cell_type": "code",
   "execution_count": 24,
   "metadata": {},
   "outputs": [],
   "source": [
    "keyfile=\"key.txt\"\n",
    "def Dictionary_Form(keyfile):\n",
    "    dict1={}\n",
    "    with open(\"key.txt\",\"r\")as k:\n",
    "        for line in k:\n",
    "            h=line.split()\n",
    "            dict1[h[0]]=h[1]\n",
    "    return dict1\n",
    "#Dictionary_Form(keyfile)\n",
    "def Encryption_data(datafile,keyfile):\n",
    "    key=Dictionary_Form(keyfile)\n",
    "    with open(datafile,\"r\") as d:\n",
    "        h=d.read().split(\"\\n\")\n",
    "    with open(\"encrypted_marks.txt\",\"w\")as en:\n",
    "        for mark in h:\n",
    "            encr=\"\"\n",
    "            for i in mark:\n",
    "                encr+=key[i]\n",
    "            en.write(encr+\"\\n\")\n",
    "    return \n",
    "datafile=\"mark.txt\"\n",
    "Encryption_data(datafile,keyfile)\n",
    "            \n",
    "            \n",
    "        \n"
   ]
  },
  {
   "cell_type": "code",
   "execution_count": 43,
   "metadata": {},
   "outputs": [],
   "source": [
    "# Decrypted message\n",
    "keyfile=\"key.txt\"\n",
    "def Decrypted_marks(encrypted_file,keyfile):\n",
    "    key=Dictionary_Form(keyfile)\n",
    "    new_dict={}\n",
    "    for key,value in key.items():\n",
    "        new_dict[value]=key\n",
    "    with open (encrypted_file,\"r\") as enc:\n",
    "            y=enc.read().split(\"\\n\")\n",
    "    with open (\"decrypted_marks.txt\",\"w\") as dec:\n",
    "            for t in y:\n",
    "                u=\"\"\n",
    "                for j in t:\n",
    "                    u+=new_dict[j]\n",
    "                dec.write(u+\"\\n\")\n",
    "    return\n",
    "encrypted_file='encrypted_marks.txt'\n",
    "Decrypted_marks(encrypted_file,keyfile)"
   ]
  },
  {
   "cell_type": "markdown",
   "metadata": {},
   "source": [
    "### TASKS"
   ]
  },
  {
   "cell_type": "code",
   "execution_count": null,
   "metadata": {},
   "outputs": [],
   "source": [
    "#### Write a function to encrypt your marks file takes marks by using  write function\n",
    "#### Write a function to decrypt encrypted marks file"
   ]
  },
  {
   "cell_type": "code",
   "execution_count": 45,
   "metadata": {},
   "outputs": [
    {
     "name": "stdout",
     "output_type": "stream",
     "text": [
      "enter the message :sonu\n",
      "yutb\n"
     ]
    }
   ],
   "source": [
    "# lower and uppercase letters\n",
    "msg=input(\"enter the message :\")\n",
    "new_ms=\"\"\n",
    "for char in msg:\n",
    "    if ord(char)>65 and ord(char)<=90:\n",
    "        k=ord(char)+key\n",
    "        if k>90:\n",
    "            h=65+(ord(char)-90)\n",
    "            new_ms+=chr(h)\n",
    "    elif ord(char)>=97 and ord(char)<=122:\n",
    "        p=ord(char)+key\n",
    "        if p>122:\n",
    "            b=97+p-122\n",
    "            new_ms+=chr(b)\n",
    "        else:\n",
    "            new_ms+=chr(p)\n",
    "print(new_ms)"
   ]
  },
  {
   "cell_type": "code",
   "execution_count": null,
   "metadata": {},
   "outputs": [],
   "source": []
  }
 ],
 "metadata": {
  "kernelspec": {
   "display_name": "Python 3",
   "language": "python",
   "name": "python3"
  },
  "language_info": {
   "codemirror_mode": {
    "name": "ipython",
    "version": 3
   },
   "file_extension": ".py",
   "mimetype": "text/x-python",
   "name": "python",
   "nbconvert_exporter": "python",
   "pygments_lexer": "ipython3",
   "version": "3.7.3"
  }
 },
 "nbformat": 4,
 "nbformat_minor": 2
}
