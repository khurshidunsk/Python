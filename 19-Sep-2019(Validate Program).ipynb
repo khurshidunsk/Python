{
 "cells": [
  {
   "cell_type": "code",
   "execution_count": 12,
   "metadata": {},
   "outputs": [
    {
     "name": "stdout",
     "output_type": "stream",
     "text": [
      "name1 contactadded\n"
     ]
    }
   ],
   "source": [
    "# Functions to add contacts in a contacts text file\n",
    "from Validator import phoneNumValidator as pnv,emailValidator as ev\n",
    "def addContact(name,phone,email):\n",
    "    if not checkContactExist(name):\n",
    "        if pnv(phone) and ev(email):\n",
    "            with open('contacts.txt','w') as f:\n",
    "                line=name+','+str(phone)+','+email+'\\n'\n",
    "                f.write(line)\n",
    "            print(name,'contactadded')\n",
    "        else:\n",
    "            print(\"invalid cell number or email i'd\")\n",
    "            return\n",
    "    else:\n",
    "        print(\"already existed\")\n",
    "        return\n",
    "    \n",
    "import re\n",
    "def checkContactExist(name):\n",
    "    with open('contacts.txt','r') as f:\n",
    "        filedata=f.read()\n",
    "    return re.search(name,filedata)\n",
    "addContact('name1',9603853714,'n140755@rguktn.ac.in')"
   ]
  },
  {
   "cell_type": "code",
   "execution_count": null,
   "metadata": {},
   "outputs": [],
   "source": []
  },
  {
   "cell_type": "code",
   "execution_count": null,
   "metadata": {},
   "outputs": [],
   "source": []
  }
 ],
 "metadata": {
  "kernelspec": {
   "display_name": "Python 3",
   "language": "python",
   "name": "python3"
  },
  "language_info": {
   "codemirror_mode": {
    "name": "ipython",
    "version": 3
   },
   "file_extension": ".py",
   "mimetype": "text/x-python",
   "name": "python",
   "nbconvert_exporter": "python",
   "pygments_lexer": "ipython3",
   "version": "3.7.3"
  }
 },
 "nbformat": 4,
 "nbformat_minor": 2
}
