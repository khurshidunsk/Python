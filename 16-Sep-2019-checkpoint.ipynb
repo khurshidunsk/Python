{
 "cells": [
  {
   "cell_type": "markdown",
   "metadata": {},
   "source": [
    "# Regular Expressions \n",
    "*syntax : import re*\n",
    "#### Methods in Regular Expressions\n",
    "- re.findall()\n",
    "- re.search()\n",
    "- re.match()\n",
    "- re.sub()\n",
    "- re.finditer()"
   ]
  },
  {
   "cell_type": "markdown",
   "metadata": {},
   "source": [
    "- set \"[ _ ]\"--->We can insert of or goup of cahrs,numbers etc.\n",
    "- Caret \" ^ \"--->Starts with\n",
    "- Dollar\" $ \"---->Ends With\n",
    "- Star \" * \" ---->Zero or more occcurence\n",
    "- Plus \" + \" ---->one or more occurences\n",
    "- \"{}\"-------------> Exactly the specified number of occurences\n",
    "- \"|\" -------------> or\n",
    "- \"\\\" -------------> Special Sequence\n",
    "- A Period \".\"-----> Representation of a char to detect"
   ]
  },
  {
   "cell_type": "markdown",
   "metadata": {},
   "source": [
    "### Special Sequence \"\\\"\n",
    "- \\A word ----> to detect whether the word is at the beigining of string or not\n",
    "- \\b Word ----> to detect whether the word is at the anywhere of a paragraph\n",
    "- \\d ---------> any digit\n",
    "- \\D ---------> non-digit including spaces also\n",
    "- \\s----------> detects space anywhere i.e digits or names\n",
    "- \\S----------> opposite to \\s\n",
    "- \\w----------> alphanumeric values\n",
    "- \\W----------> non- alphanumeric (ex:@#$%^&*)"
   ]
  },
  {
   "cell_type": "code",
   "execution_count": 7,
   "metadata": {},
   "outputs": [
    {
     "name": "stdout",
     "output_type": "stream",
     "text": [
      "['h', 'e', 'h', 'g', 'a', 'i', 'g', 'l', 'a', 'g', 'a', 'g', 'e']\n"
     ]
    }
   ],
   "source": [
    "# write a program to find the charecters between \"a\" and \"t\"\n",
    "import re\n",
    "string=\"the python programming language\"\n",
    "string2=re.findall(\"[a-l]\",string)\n",
    "print(string2)"
   ]
  },
  {
   "cell_type": "code",
   "execution_count": 8,
   "metadata": {},
   "outputs": [
    {
     "name": "stdout",
     "output_type": "stream",
     "text": [
      "['6', '1', '0', '0']\n"
     ]
    }
   ],
   "source": [
    "import re\n",
    "s=\"The cost of 6 apples is 100 rs\"\n",
    "s1=re.findall(\"[\\d]\",s)\n",
    "print(s1)"
   ]
  },
  {
   "cell_type": "code",
   "execution_count": 12,
   "metadata": {},
   "outputs": [
    {
     "name": "stdout",
     "output_type": "stream",
     "text": [
      "['T', 'h', 'e', ' ', 'c', 'o', 's', 't', ' ', 'o', 'f', ' ', ' ', 'a', 'p', 'p', 'l', 'e', 's', ' ', 'i', 's', ' ', '/', '-', ' ', 'r', 's']\n"
     ]
    }
   ],
   "source": [
    "import re\n",
    "s=\"The cost of 6 apples is 100/- rs\"\n",
    "s1=re.findall(\"[\\D]\",s)\n",
    "print(s1)"
   ]
  },
  {
   "cell_type": "code",
   "execution_count": 13,
   "metadata": {},
   "outputs": [
    {
     "name": "stdout",
     "output_type": "stream",
     "text": [
      "[' ', ' ', ' ', ' ', ' ', ' ', ' ']\n"
     ]
    }
   ],
   "source": [
    "import re\n",
    "s=\"The cost of 6 apples is 100/- rs\"\n",
    "s1=re.findall(\"[\\s]\",s)\n",
    "print(s1)"
   ]
  },
  {
   "cell_type": "code",
   "execution_count": 14,
   "metadata": {},
   "outputs": [
    {
     "name": "stdout",
     "output_type": "stream",
     "text": [
      "['T', 'h', 'e', 'c', 'o', 's', 't', 'o', 'f', '6', 'a', 'p', 'p', 'l', 'e', 's', 'i', 's', '1', '0', '0', '/', '-', 'r', 's']\n"
     ]
    }
   ],
   "source": [
    "import re\n",
    "s=\"The cost of 6 apples is 100/- rs\"\n",
    "s1=re.findall(\"[\\S]\",s)\n",
    "print(s1)"
   ]
  },
  {
   "cell_type": "code",
   "execution_count": 15,
   "metadata": {},
   "outputs": [
    {
     "name": "stdout",
     "output_type": "stream",
     "text": [
      "['T', 'h', 'e', 'c', 'o', 's', 't', 'o', 'f', '6', 'a', 'p', 'p', 'l', 'e', 's', 'i', 's', '1', '0', '0', 'r', 's']\n"
     ]
    }
   ],
   "source": [
    "import re\n",
    "s=\"The cost of 6 apples is 100/- rs\"\n",
    "s1=re.findall(\"[\\w]\",s)\n",
    "print(s1)"
   ]
  },
  {
   "cell_type": "code",
   "execution_count": 16,
   "metadata": {},
   "outputs": [
    {
     "name": "stdout",
     "output_type": "stream",
     "text": [
      "[' ', ' ', ' ', ' ', ' ', ' ', '/', '-', ' ']\n"
     ]
    }
   ],
   "source": [
    "import re\n",
    "s=\"The cost of 6 apples is 100/- rs\"\n",
    "s1=re.findall(\"[\\W]\",s)\n",
    "print(s1)"
   ]
  },
  {
   "cell_type": "code",
   "execution_count": 21,
   "metadata": {},
   "outputs": [
    {
     "name": "stdout",
     "output_type": "stream",
     "text": [
      "[' ', ' ', ' ', ' ', 'a', ' ', ' ', ' ']\n"
     ]
    }
   ],
   "source": [
    "import re\n",
    "s=\"The cost of 6 apples is 100/- rs\"\n",
    "s1=re.findall(\"[\\b a]\",s)\n",
    "print(s1)"
   ]
  },
  {
   "cell_type": "code",
   "execution_count": 40,
   "metadata": {},
   "outputs": [
    {
     "name": "stdout",
     "output_type": "stream",
     "text": [
      "['programm']\n"
     ]
    }
   ],
   "source": [
    "# Take a string which contains more than 8 charecters,print 5 charecters in that strong  \n",
    "import re\n",
    "s=\"programming\"\n",
    "s1=re.findall(\"pro.....\",s)\n",
    "print(s1)"
   ]
  },
  {
   "cell_type": "code",
   "execution_count": 44,
   "metadata": {},
   "outputs": [
    {
     "name": "stdout",
     "output_type": "stream",
     "text": [
      "94022342\n"
     ]
    },
    {
     "data": {
      "text/plain": [
       "False"
      ]
     },
     "execution_count": 44,
     "metadata": {},
     "output_type": "execute_result"
    }
   ],
   "source": [
    "## To print Phone number validator\n",
    "import re\n",
    "def phoneNumValidator(number):\n",
    "    p='[6-9][0-9]{9}|[+][9][1][0-9]{9}'\n",
    "    if re.match(p,str(number)):\n",
    "        return True\n",
    "    else:\n",
    "        return False\n",
    "number=int(input())\n",
    "phoneNumValidator(number)"
   ]
  },
  {
   "cell_type": "code",
   "execution_count": 45,
   "metadata": {},
   "outputs": [
    {
     "name": "stdout",
     "output_type": "stream",
     "text": [
      "python:::::programming:language\n"
     ]
    }
   ],
   "source": [
    "# re.sub() method\n",
    "# syntax:re.sub(\"value to be removed\",\"value to be added\",varisble)\n",
    "# Write a program to repalce the spaces with ':'\n",
    "import re\n",
    "string = \"python     programming language\"\n",
    "string2=re.sub('\\s',':',string)\n",
    "print(string2)\n"
   ]
  },
  {
   "cell_type": "code",
   "execution_count": 54,
   "metadata": {},
   "outputs": [
    {
     "name": "stdout",
     "output_type": "stream",
     "text": [
      "pythonprogramminglanguage\n"
     ]
    }
   ],
   "source": [
    "#Write a program to remove the spaces\n",
    "import re\n",
    "string = \"python     programming language\"\n",
    "string2=re.sub('\\W',\"\",string)\n",
    "print(string2)\n",
    "\n"
   ]
  },
  {
   "cell_type": "code",
   "execution_count": 57,
   "metadata": {},
   "outputs": [
    {
     "name": "stdout",
     "output_type": "stream",
     "text": [
      "n140755@rguktn.ac.in\n"
     ]
    },
    {
     "data": {
      "text/plain": [
       "True"
      ]
     },
     "execution_count": 57,
     "metadata": {},
     "output_type": "execute_result"
    }
   ],
   "source": [
    "## To print Phone gmail validator\n",
    "import re\n",
    "def gmailValidator(gmail):\n",
    "    g='[a-z][0-9a-z.]{5,15}[@][0-9a-z]{3,8}[.][a-z]{2,4}|[.][a-z]{2,4}'\n",
    "    if re.match(g,str(gmail)):\n",
    "        return True\n",
    "    else:\n",
    "        return False\n",
    "gmail=input()\n",
    "gmailValidator(gmail)"
   ]
  },
  {
   "cell_type": "code",
   "execution_count": null,
   "metadata": {},
   "outputs": [],
   "source": []
  }
 ],
 "metadata": {
  "kernelspec": {
   "display_name": "Python 3",
   "language": "python",
   "name": "python3"
  },
  "language_info": {
   "codemirror_mode": {
    "name": "ipython",
    "version": 3
   },
   "file_extension": ".py",
   "mimetype": "text/x-python",
   "name": "python",
   "nbconvert_exporter": "python",
   "pygments_lexer": "ipython3",
   "version": "3.7.3"
  }
 },
 "nbformat": 4,
 "nbformat_minor": 2
}
