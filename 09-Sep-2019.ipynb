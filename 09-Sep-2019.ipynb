{
 "cells": [
  {
   "cell_type": "markdown",
   "metadata": {},
   "source": [
    "# Recursive Function"
   ]
  },
  {
   "cell_type": "markdown",
   "metadata": {},
   "source": [
    " #### A function call by itself"
   ]
  },
  {
   "cell_type": "code",
   "execution_count": 100,
   "metadata": {},
   "outputs": [
    {
     "data": {
      "text/plain": [
       "3628800"
      ]
     },
     "execution_count": 100,
     "metadata": {},
     "output_type": "execute_result"
    }
   ],
   "source": [
    "#Factorial without recursion\n",
    "def factorial (n):\n",
    "    fact=1\n",
    "    for i in range(2,n+1):\n",
    "        fact*=i\n",
    "    return fact\n",
    "factorial (10)\n"
   ]
  },
  {
   "cell_type": "code",
   "execution_count": 101,
   "metadata": {},
   "outputs": [
    {
     "ename": "SyntaxError",
     "evalue": "unexpected EOF while parsing (<ipython-input-101-40e687ce9abc>, line 3)",
     "output_type": "error",
     "traceback": [
      "\u001b[1;36m  File \u001b[1;32m\"<ipython-input-101-40e687ce9abc>\"\u001b[1;36m, line \u001b[1;32m3\u001b[0m\n\u001b[1;33m    \u001b[0m\n\u001b[1;37m    ^\u001b[0m\n\u001b[1;31mSyntaxError\u001b[0m\u001b[1;31m:\u001b[0m unexpected EOF while parsing\n"
     ]
    }
   ],
   "source": [
    "#Factorail With recursion\n",
    "def factorial(n):\n",
    "    "
   ]
  },
  {
   "cell_type": "markdown",
   "metadata": {},
   "source": [
    "### Conditional Statements"
   ]
  },
  {
   "cell_type": "markdown",
   "metadata": {},
   "source": [
    "1. If Statement "
   ]
  },
  {
   "cell_type": "code",
   "execution_count": 8,
   "metadata": {},
   "outputs": [
    {
     "name": "stdout",
     "output_type": "stream",
     "text": [
      "enter marks:99\n",
      "Topper\n"
     ]
    }
   ],
   "source": [
    "marks=int(input(\"enter marks:\"))\n",
    "pas =50\n",
    "dist = 90\n",
    "if marks >= dist :\n",
    "    print (\"Topper\")\n",
    "if marks >= pas and marks < dist :\n",
    "    print(\"pass\")\n",
    "if marks<=pas :\n",
    "    print(\"fail\")\n",
    "    \n"
   ]
  },
  {
   "cell_type": "code",
   "execution_count": 5,
   "metadata": {},
   "outputs": [
    {
     "name": "stdout",
     "output_type": "stream",
     "text": [
      "fail\n"
     ]
    }
   ],
   "source": [
    "if marks >= dist :\n",
    "    print (\"Topper\")\n",
    "if marks >= pas and marks < dist :\n",
    "    print(\"pass\")\n",
    "if marks<=pas :\n",
    "    print(\"fail\")\n",
    "    "
   ]
  },
  {
   "cell_type": "code",
   "execution_count": 11,
   "metadata": {},
   "outputs": [
    {
     "name": "stdout",
     "output_type": "stream",
     "text": [
      "Bad review\n",
      "good review\n"
     ]
    }
   ],
   "source": [
    "statement = \"the coffee is bad\"\n",
    "if 'bad' in statement :\n",
    "    print(\"Bad review\")\n",
    "statement1 =(\" I am very good\")\n",
    "if 'bad'in statement :\n",
    "    print(\"good review\")"
   ]
  },
  {
   "cell_type": "code",
   "execution_count": 14,
   "metadata": {},
   "outputs": [
    {
     "data": {
      "text/plain": [
       "True"
      ]
     },
     "execution_count": 14,
     "metadata": {},
     "output_type": "execute_result"
    }
   ],
   "source": [
    "'o' in 'sonu'"
   ]
  },
  {
   "cell_type": "markdown",
   "metadata": {},
   "source": [
    "#### 2.Ifelse statement"
   ]
  },
  {
   "cell_type": "code",
   "execution_count": 18,
   "metadata": {},
   "outputs": [
    {
     "name": "stdout",
     "output_type": "stream",
     "text": [
      "False\n"
     ]
    }
   ],
   "source": [
    "if None:\n",
    "    print(\"True\")\n",
    "else :\n",
    "    print(\"False\")"
   ]
  },
  {
   "cell_type": "markdown",
   "metadata": {},
   "source": [
    "## Practice Problems :"
   ]
  },
  {
   "cell_type": "markdown",
   "metadata": {},
   "source": [
    "#### Even or odd program"
   ]
  },
  {
   "cell_type": "code",
   "execution_count": 19,
   "metadata": {},
   "outputs": [
    {
     "name": "stdout",
     "output_type": "stream",
     "text": [
      "enter a num:4\n",
      "even\n"
     ]
    }
   ],
   "source": [
    "n= int (input(\"enter a num:\"))\n",
    "if n%2 ==0 :\n",
    "    print(\"even\")\n",
    "else :\n",
    "    print (\"odd\")\n",
    "    \n"
   ]
  },
  {
   "cell_type": "markdown",
   "metadata": {},
   "source": [
    "##### Check the num is even r odd and then check whether it is divisible by 4 or not.If it is odd check whether it is divisible by 3 or not"
   ]
  },
  {
   "cell_type": "code",
   "execution_count": 21,
   "metadata": {},
   "outputs": [
    {
     "name": "stdout",
     "output_type": "stream",
     "text": [
      "enter a num:56\n",
      "even\n",
      "divisible by 4\n"
     ]
    }
   ],
   "source": [
    "n= int (input(\"enter a num:\"))\n",
    "if n%2 ==0 :\n",
    "    print(\"even\")\n",
    "    if n%4 ==0 :\n",
    "        print(\"divisible by 4\")\n",
    "    else :\n",
    "        print(\"not divisible by 4\")\n",
    "else :\n",
    "    print (\"odd\")\n",
    "    if n%3 ==0 :\n",
    "        print(\"divisible by 3\")\n",
    "    else:\n",
    "        print(\" not divisible by 3\")\n",
    "        "
   ]
  },
  {
   "cell_type": "markdown",
   "metadata": {},
   "source": [
    "#### Check if given year is leap year  "
   ]
  },
  {
   "cell_type": "code",
   "execution_count": 31,
   "metadata": {},
   "outputs": [
    {
     "name": "stdout",
     "output_type": "stream",
     "text": [
      "enter year:1997\n",
      "not leap year\n"
     ]
    }
   ],
   "source": [
    "year = int(input(\"enter year:\"))\n",
    "if year%400 ==0 or (year%4==0 and year % 100!=0) :\n",
    "    print (\"leap year\")\n",
    "else :\n",
    "    print(\"not leap year\")"
   ]
  },
  {
   "cell_type": "markdown",
   "metadata": {},
   "source": [
    "#### Check if a number is existed in a given range(inclusive)"
   ]
  },
  {
   "cell_type": "code",
   "execution_count": 38,
   "metadata": {},
   "outputs": [
    {
     "name": "stdout",
     "output_type": "stream",
     "text": [
      "enter a number:20\n",
      "no\n"
     ]
    }
   ],
   "source": [
    "n=int(input(\"enter a number:\"))\n",
    "l=50\n",
    "u=150\n",
    "if (n in range(l,u) ):\n",
    "    print (\"yes\")\n",
    "else:\n",
    "    print(\"no\")\n",
    "    "
   ]
  },
  {
   "cell_type": "code",
   "execution_count": 41,
   "metadata": {},
   "outputs": [
    {
     "name": "stdout",
     "output_type": "stream",
     "text": [
      "enter a num:24\n",
      "not multiple of 10\n"
     ]
    }
   ],
   "source": [
    "### Check if a number is multiple of 10\n",
    "n= int(input(\"enter a num:\"))\n",
    "if n%10==0 :\n",
    "    print(\"multiple of 10\")\n",
    "else:\n",
    "      print(\"not multiple of 10\")\n"
   ]
  },
  {
   "cell_type": "code",
   "execution_count": 45,
   "metadata": {},
   "outputs": [
    {
     "name": "stdout",
     "output_type": "stream",
     "text": [
      "enter a num:300\n",
      "not factor\n"
     ]
    }
   ],
   "source": [
    "#### Check if a number is a factors of 100\n",
    "n=int(input(\"enter a num:\"))\n",
    "if 100%n==0 :\n",
    "    print(\"factor\")\n",
    "else:\n",
    "    print(\"not factor\")\n"
   ]
  },
  {
   "cell_type": "code",
   "execution_count": 46,
   "metadata": {},
   "outputs": [
    {
     "name": "stdout",
     "output_type": "stream",
     "text": [
      "not equal\n"
     ]
    }
   ],
   "source": [
    "#### Check if a string is equal to a number \n",
    "num =12345\n",
    "st  = \"python\"\n",
    "if str(num)==st:\n",
    "    print(\"equal\")\n",
    "else :\n",
    "    print(\"not equal\")\n"
   ]
  },
  {
   "cell_type": "code",
   "execution_count": 51,
   "metadata": {},
   "outputs": [
    {
     "name": "stdout",
     "output_type": "stream",
     "text": [
      "enter year:2016\n",
      "leap year\n",
      "0.0316224\n"
     ]
    }
   ],
   "source": [
    "### Calculate the number of nanoseconds in a given year(Consider leap year logic)\n",
    "year = int(input(\"enter year:\"))\n",
    "if year%400 ==0 or (year%4==0 and year % 100!=0) :\n",
    "    print (\"leap year\")\n",
    "    print(366*24*60*60*(10**-9))\n",
    "else:\n",
    "    print(\"not leap year\")\n",
    "    print(366*24*60*60*(10**-9))\n",
    "    "
   ]
  },
  {
   "cell_type": "markdown",
   "metadata": {},
   "source": [
    "### 3.elif statement"
   ]
  },
  {
   "cell_type": "code",
   "execution_count": 54,
   "metadata": {},
   "outputs": [
    {
     "name": "stdout",
     "output_type": "stream",
     "text": [
      "enter num:868\n",
      "enter num:5664\n",
      "enter num:3339094\n",
      "c is greater\n"
     ]
    }
   ],
   "source": [
    "# Find the greatest of 3 numbers\n",
    "a=int (input(\"enter num:\"))\n",
    "b=int(input(\"enter num:\"))\n",
    "c= int(input(\"enter num:\"))\n",
    "if (a>b and a>c):\n",
    "    print(\"a is greater\")\n",
    "elif(b>a and b>c):\n",
    "    print(\"b is greater\")\n",
    "else :\n",
    "    print(\"c is greater\")"
   ]
  },
  {
   "cell_type": "code",
   "execution_count": 60,
   "metadata": {},
   "outputs": [
    {
     "name": "stdout",
     "output_type": "stream",
     "text": [
      "enter marks:99\n",
      "EX grade\n"
     ]
    }
   ],
   "source": [
    "# Print the grades of marks \n",
    "m=int(input(\"enter marks:\"))\n",
    "if m>40 and m<50 :\n",
    "    print(\"P grade\")\n",
    "elif m>50 and m<60 :\n",
    "    print(\"D grade\")\n",
    "elif m>60 and m<70 :\n",
    "    print(\"C grade\")\n",
    "elif m>70 and m<80 :\n",
    "    print(\"B grade\")\n",
    "elif m>80 and m<90 :\n",
    "    print(\"A grade\")\n",
    "elif m>90 and m<=99 :\n",
    "    print(\"EX grade\")\n",
    "else :\n",
    "    print(\"F grade\")"
   ]
  },
  {
   "cell_type": "markdown",
   "metadata": {},
   "source": [
    "### 4.Nested if"
   ]
  },
  {
   "cell_type": "code",
   "execution_count": 70,
   "metadata": {},
   "outputs": [
    {
     "name": "stdout",
     "output_type": "stream",
     "text": [
      "enter num:-3\n",
      "Negative\n"
     ]
    }
   ],
   "source": [
    "#Check the given number is +ve or -ve or 0\n",
    "n=int(input(\"enter num:\"))\n",
    "if n>=0:\n",
    "    if (n==0):\n",
    "        print(\"Zero\")\n",
    "    else:\n",
    "        print(\"positive\")\n",
    "else:\n",
    "    print(\"Negative\")\n",
    "        "
   ]
  },
  {
   "cell_type": "markdown",
   "metadata": {},
   "source": [
    "### Tasks :"
   ]
  },
  {
   "cell_type": "code",
   "execution_count": 77,
   "metadata": {},
   "outputs": [
    {
     "name": "stdout",
     "output_type": "stream",
     "text": [
      "enter a number:34767382388\n",
      "11\n"
     ]
    }
   ],
   "source": [
    "#Check the number of digits in a given number\n",
    "n=int(input(\"enter a number:\"))\n",
    "f=str(n)\n",
    "print(len(f))\n"
   ]
  },
  {
   "cell_type": "code",
   "execution_count": 62,
   "metadata": {},
   "outputs": [],
   "source": [
    "#Check if the number is a factor of 1000\n",
    "n=int(input(\"enter a num:\"))\n",
    "if 1000%n==0 :\n",
    "    print(\"factor\")\n",
    "else:\n",
    "    print(\"not factor\")\n"
   ]
  },
  {
   "cell_type": "code",
   "execution_count": 75,
   "metadata": {},
   "outputs": [
    {
     "ename": "SyntaxError",
     "evalue": "invalid syntax (<ipython-input-75-8f986670f8e4>, line 3)",
     "output_type": "error",
     "traceback": [
      "\u001b[1;36m  File \u001b[1;32m\"<ipython-input-75-8f986670f8e4>\"\u001b[1;36m, line \u001b[1;32m3\u001b[0m\n\u001b[1;33m    print(n^1/2))\u001b[0m\n\u001b[1;37m                ^\u001b[0m\n\u001b[1;31mSyntaxError\u001b[0m\u001b[1;31m:\u001b[0m invalid syntax\n"
     ]
    }
   ],
   "source": [
    "#Calculate the squareroot of a given number \n",
    "n=int(input(\"enter number:\"))\n",
    "print(n^1/2))"
   ]
  },
  {
   "cell_type": "code",
   "execution_count": 82,
   "metadata": {},
   "outputs": [
    {
     "name": "stdout",
     "output_type": "stream",
     "text": [
      "120\n"
     ]
    }
   ],
   "source": [
    "#factorial of a given number\n",
    "def factorial(n):\n",
    "    if n>1:\n",
    "        return n*factorial(n-1)\n",
    "    else:\n",
    "        return n\n",
    "fact = factorial(5)\n",
    "print(fact)"
   ]
  },
  {
   "cell_type": "code",
   "execution_count": 83,
   "metadata": {},
   "outputs": [
    {
     "data": {
      "text/plain": [
       "True"
      ]
     },
     "execution_count": 83,
     "metadata": {},
     "output_type": "execute_result"
    }
   ],
   "source": [
    "#Function to check if a string is a palindrome\n",
    "def palindrome(s):\n",
    "    if s==s[::-1]:\n",
    "        return True\n",
    "    else:\n",
    "        return False\n",
    "palindrome(\"malayalam\")"
   ]
  },
  {
   "cell_type": "code",
   "execution_count": 89,
   "metadata": {},
   "outputs": [
    {
     "name": "stdout",
     "output_type": "stream",
     "text": [
      "enter year:2016\n",
      "leap year\n"
     ]
    }
   ],
   "source": [
    "#Function to check if a year is leapyear or not\n",
    "def leap(n):\n",
    "    n=int(input(\"enter year:\"))\n",
    "    if n%400==0 or (n%4==0 and n%100!=0):\n",
    "        print(\"leap year\")\n",
    "    else:\n",
    "        print(\"not leap year\")\n",
    "leap(n)"
   ]
  },
  {
   "cell_type": "code",
   "execution_count": 92,
   "metadata": {},
   "outputs": [
    {
     "name": "stdout",
     "output_type": "stream",
     "text": [
      "enter a number:123123\n",
      "6\n"
     ]
    }
   ],
   "source": [
    "#Functio to count number of didgits in a number\n",
    "def count(n):\n",
    "    n=int(input(\"enter a number:\"))\n",
    "    f=str(n)\n",
    "    print(len(f))\n",
    "count(n)\n",
    "\n",
    "    \n"
   ]
  },
  {
   "cell_type": "code",
   "execution_count": 95,
   "metadata": {},
   "outputs": [
    {
     "name": "stdout",
     "output_type": "stream",
     "text": [
      "enter num:342\n",
      "enter num:6547\n",
      "enter num:342\n",
      "enter num:24235\n",
      "d is greater\n"
     ]
    }
   ],
   "source": [
    "#Function to identify the greatest of 4 numbers\n",
    "def great():\n",
    "    a=int (input(\"enter num:\"))\n",
    "    b=int(input(\"enter num:\"))\n",
    "    c= int(input(\"enter num:\"))\n",
    "    d= int(input(\"enter num:\"))\n",
    "    if (a>b and a>c and a>d):\n",
    "        print(\"a is greater\")\n",
    "    elif(b>a and b>c and b>d):\n",
    "        print(\"b is greater\")\n",
    "    elif(c>a and c>b and c>d):\n",
    "        print(\"c is greater\")\n",
    "    else :\n",
    "        print(\"d is greater\")\n",
    "great()"
   ]
  },
  {
   "cell_type": "code",
   "execution_count": null,
   "metadata": {},
   "outputs": [],
   "source": []
  }
 ],
 "metadata": {
  "kernelspec": {
   "display_name": "Python 3",
   "language": "python",
   "name": "python3"
  },
  "language_info": {
   "codemirror_mode": {
    "name": "ipython",
    "version": 3
   },
   "file_extension": ".py",
   "mimetype": "text/x-python",
   "name": "python",
   "nbconvert_exporter": "python",
   "pygments_lexer": "ipython3",
   "version": "3.7.3"
  }
 },
 "nbformat": 4,
 "nbformat_minor": 2
}
