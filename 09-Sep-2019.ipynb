{
 "cells": [
  {
   "cell_type": "markdown",
   "metadata": {},
   "source": [
    "# Recursive Function"
   ]
  },
  {
   "cell_type": "markdown",
   "metadata": {},
   "source": [
    " #### A function call by itself"
   ]
  },
  {
   "cell_type": "code",
   "execution_count": 100,
   "metadata": {},
   "outputs": [
    {
     "data": {
      "text/plain": [
       "3628800"
      ]
     },
     "execution_count": 100,
     "metadata": {},
     "output_type": "execute_result"
    }
   ],
   "source": [
    "#Factorial without recursion\n",
    "def factorial (n):\n",
    "    fact=1\n",
    "    for i in range(2,n+1):\n",
    "        fact*=i\n",
    "    return fact\n",
    "factorial (10)\n"
   ]
  },
  {
   "cell_type": "code",
   "execution_count": 2,
   "metadata": {},
   "outputs": [
    {
     "name": "stdout",
     "output_type": "stream",
     "text": [
      "factorial has been called with n = 5\n",
      "factorial has been called with n = 4\n",
      "factorial has been called with n = 3\n",
      "factorial has been called with n = 2\n",
      "factorial has been called with n = 1\n",
      "result for  2  * factorial( 1 ):  2\n",
      "result for  3  * factorial( 2 ):  6\n",
      "result for  4  * factorial( 3 ):  24\n",
      "result for  5  * factorial( 4 ):  120\n",
      "120\n"
     ]
    }
   ],
   "source": [
    "#Factorail With recursion\n",
    "def factorial(n):\n",
    "    print(\"factorial has been called with n = \" + str(n))\n",
    "    if n == 1:\n",
    "        return 1\n",
    "    else:\n",
    "        res = n * factorial(n-1)\n",
    "        print(\"result for \", n, \" * factorial(\" ,n-1, \"): \",res)\n",
    "        return res\n",
    "\n",
    "print(factorial(5))\n",
    "    "
   ]
  },
  {
   "cell_type": "code",
   "execution_count": 12,
   "metadata": {},
   "outputs": [
    {
     "name": "stdout",
     "output_type": "stream",
     "text": [
      "100,98,96,94,92,90,88,86,84,82,80,78,76,74,72,70,68,66,64,62,60,58,56,54,52,"
     ]
    }
   ],
   "source": [
    "# Function to print reverse of given range in the same line\n",
    "def reverse():\n",
    "    for i in range(100,50,-2):\n",
    "        print(i,end=\",\")\n",
    "reverse()\n",
    "    \n"
   ]
  },
  {
   "cell_type": "code",
   "execution_count": 14,
   "metadata": {},
   "outputs": [
    {
     "name": "stdout",
     "output_type": "stream",
     "text": [
      "enter num:44\n",
      "1,3,5,7,9,11,13,15,17,19,21,23,25,27,29,31,33,35,37,39,41,43,"
     ]
    }
   ],
   "source": [
    "# Function to print the odd numbers in a reverse order\n",
    "def odd():\n",
    "    n=int(input(\"enter num:\"))\n",
    "    for i in range(1,n+1):\n",
    "        if i%2!=0:\n",
    "            print(i,end=\",\")\n",
    "odd()"
   ]
  },
  {
   "cell_type": "code",
   "execution_count": 40,
   "metadata": {},
   "outputs": [
    {
     "name": "stdout",
     "output_type": "stream",
     "text": [
      "55\n"
     ]
    }
   ],
   "source": [
    "# Function to calculate the sum of numbers in a given range \n",
    "def add(n):\n",
    "    s=0\n",
    "    for i in range(1,n+1):\n",
    "        s=s+i\n",
    "    print(s)        \n",
    "add(10)        \n",
    "    "
   ]
  },
  {
   "cell_type": "code",
   "execution_count": 42,
   "metadata": {},
   "outputs": [
    {
     "name": "stdout",
     "output_type": "stream",
     "text": [
      "5.5\n"
     ]
    }
   ],
   "source": [
    "#Function to calculate the average of given range\n",
    "def avg(n):\n",
    "    s=0\n",
    "    for i in range(1,n+1):\n",
    "        s=s+i\n",
    "        average=s/i\n",
    "    print(average)        \n",
    "avg(10)        \n",
    "    "
   ]
  },
  {
   "cell_type": "code",
   "execution_count": 1,
   "metadata": {},
   "outputs": [
    {
     "name": "stdout",
     "output_type": "stream",
     "text": [
      "2000\n",
      "2004\n",
      "2008\n",
      "2012\n",
      "2016\n"
     ]
    }
   ],
   "source": [
    "# Function to generate all the leap years in  given time period \n",
    "def time(lb,ub):\n",
    "    for i in range(lb,ub+1):\n",
    "        if (i%400==0 or (i%4==0 and i%100!=0)):\n",
    "            print(i)\n",
    "time(1998,2019)"
   ]
  },
  {
   "cell_type": "code",
   "execution_count": 59,
   "metadata": {},
   "outputs": [
    {
     "name": "stdout",
     "output_type": "stream",
     "text": [
      "6\n",
      "12\n"
     ]
    }
   ],
   "source": [
    "# Function to print all the numbers divsible by 6 and not a factor of 100 in agiven range(inclusive)\n",
    "def division(lb,ub):\n",
    "    for i in range(lb,ub+1):\n",
    "        if i%6==0 and 100%i!=0:\n",
    "            print(i)\n",
    "division(1,15)"
   ]
  },
  {
   "cell_type": "code",
   "execution_count": 12,
   "metadata": {},
   "outputs": [
    {
     "name": "stdout",
     "output_type": "stream",
     "text": [
      "leap year|\n",
      "31622400\n"
     ]
    }
   ],
   "source": [
    "# Function to Calculate no.of days given in a time period using leap year logic\n",
    "def leap(n):\n",
    "    #for i in range(lb,ub+1):\n",
    "        if (n%400==0 or (n%4==0 and n%100!=0)):\n",
    "            print(\"leap year|\")\n",
    "            print(366*24*60*60)\n",
    "        else:\n",
    "            print(\"not a leap year\")\n",
    "            print(365*24*60*60)\n",
    "leap(2016)\n",
    "\n"
   ]
  },
  {
   "cell_type": "code",
   "execution_count": 66,
   "metadata": {},
   "outputs": [
    {
     "name": "stdout",
     "output_type": "stream",
     "text": [
      "216.0\n"
     ]
    }
   ],
   "source": [
    "# Function to print the cubes of average of all the even numbers which are divisible by 6\n",
    "def avg(n):\n",
    "    count=0\n",
    "    for i in range(1,n+1):\n",
    "        if i%2==0 and i%6==0:\n",
    "            s=i**3\n",
    "            count=count+1\n",
    "            average=s/count\n",
    "            print(average)\n",
    "avg(10)"
   ]
  },
  {
   "cell_type": "code",
   "execution_count": 82,
   "metadata": {},
   "outputs": [
    {
     "name": "stdout",
     "output_type": "stream",
     "text": [
      "1\n",
      "2\n",
      "5\n",
      "10\n",
      "18\n"
     ]
    }
   ],
   "source": [
    "# Function to  generate sum of factors in a given numbers\n",
    "def fact(n):\n",
    "    count=0\n",
    "    for i in range(1,n+1):\n",
    "        if n%i==0:\n",
    "            print(i)\n",
    "            count+=i\n",
    "    print(count)\n",
    "    #print(n)\n",
    "fact(10)"
   ]
  },
  {
   "cell_type": "code",
   "execution_count": 59,
   "metadata": {},
   "outputs": [
    {
     "name": "stdout",
     "output_type": "stream",
     "text": [
      "6\n",
      "28\n"
     ]
    }
   ],
   "source": [
    "# Function to generate all perfect numbers in a given range\n",
    "#Perfect number -Sum of all its factors is equal to the number itself\n",
    "#6-----1,2,3\n",
    "def perfect(n):\n",
    "    for i in range(1,n+1):\n",
    "        s=0\n",
    "        for j in range(1,i):\n",
    "            if i%j==0:\n",
    "                s=s+j\n",
    "        if s==i:\n",
    "            print(i)\n",
    "perfect(28)\n",
    "            \n",
    "        \n",
    "    \n",
    "    \n"
   ]
  },
  {
   "cell_type": "code",
   "execution_count": 29,
   "metadata": {},
   "outputs": [
    {
     "name": "stdout",
     "output_type": "stream",
     "text": [
      "2 3 5 7 11 13 "
     ]
    }
   ],
   "source": [
    "# Function to  check given number is prime or not\n",
    "def prime(n):\n",
    "    #n=int(input())\n",
    "    for i in  range(1,n+1):\n",
    "        count =0\n",
    "        for j in range (1,i+1):\n",
    "            if (i%j==0):\n",
    "                count=count+1\n",
    "        if count==2:\n",
    "            \n",
    "            print(j,end=\" \")\n",
    "prime(15)\n"
   ]
  },
  {
   "cell_type": "code",
   "execution_count": null,
   "metadata": {},
   "outputs": [],
   "source": [
    "#function to calculate the avg of prime numbers in a given range\n",
    "def prime(lb,ub):\n",
    "    n=int(input())\n",
    "    for i in range(1,n+1):\n",
    "        count=0\n",
    "        for j in range(1,n+1):\n",
    "            if i%j==0:\n",
    "                count=count+1\n",
    "            if count==2:\n",
    "    print(j,end=',')\n",
    "prime(1,10)"
   ]
  },
  {
   "cell_type": "markdown",
   "metadata": {},
   "source": [
    "### Conditional Statements"
   ]
  },
  {
   "cell_type": "markdown",
   "metadata": {},
   "source": [
    "1. If Statement "
   ]
  },
  {
   "cell_type": "code",
   "execution_count": 8,
   "metadata": {},
   "outputs": [
    {
     "name": "stdout",
     "output_type": "stream",
     "text": [
      "enter marks:99\n",
      "Topper\n"
     ]
    }
   ],
   "source": [
    "marks=int(input(\"enter marks:\"))\n",
    "pas =50\n",
    "dist = 90\n",
    "if marks >= dist :\n",
    "    print (\"Topper\")\n",
    "if marks >= pas and marks < dist :\n",
    "    print(\"pass\")\n",
    "if marks<=pas :\n",
    "    print(\"fail\")\n",
    "    \n"
   ]
  },
  {
   "cell_type": "code",
   "execution_count": 5,
   "metadata": {},
   "outputs": [
    {
     "name": "stdout",
     "output_type": "stream",
     "text": [
      "fail\n"
     ]
    }
   ],
   "source": [
    "if marks >= dist :\n",
    "    print (\"Topper\")\n",
    "if marks >= pas and marks < dist :\n",
    "    print(\"pass\")\n",
    "if marks<=pas :\n",
    "    print(\"fail\")\n",
    "    "
   ]
  },
  {
   "cell_type": "code",
   "execution_count": 11,
   "metadata": {},
   "outputs": [
    {
     "name": "stdout",
     "output_type": "stream",
     "text": [
      "Bad review\n",
      "good review\n"
     ]
    }
   ],
   "source": [
    "statement = \"the coffee is bad\"\n",
    "if 'bad' in statement :\n",
    "    print(\"Bad review\")\n",
    "statement1 =(\" I am very good\")\n",
    "if 'bad'in statement :\n",
    "    print(\"good review\")"
   ]
  },
  {
   "cell_type": "code",
   "execution_count": 14,
   "metadata": {},
   "outputs": [
    {
     "data": {
      "text/plain": [
       "True"
      ]
     },
     "execution_count": 14,
     "metadata": {},
     "output_type": "execute_result"
    }
   ],
   "source": [
    "'o' in 'sonu'"
   ]
  },
  {
   "cell_type": "markdown",
   "metadata": {},
   "source": [
    "#### 2.Ifelse statement"
   ]
  },
  {
   "cell_type": "code",
   "execution_count": 18,
   "metadata": {},
   "outputs": [
    {
     "name": "stdout",
     "output_type": "stream",
     "text": [
      "False\n"
     ]
    }
   ],
   "source": [
    "if None:\n",
    "    print(\"True\")\n",
    "else :\n",
    "    print(\"False\")"
   ]
  },
  {
   "cell_type": "markdown",
   "metadata": {},
   "source": [
    "## Practice Problems :"
   ]
  },
  {
   "cell_type": "markdown",
   "metadata": {},
   "source": [
    "#### Even or odd program"
   ]
  },
  {
   "cell_type": "code",
   "execution_count": 19,
   "metadata": {},
   "outputs": [
    {
     "name": "stdout",
     "output_type": "stream",
     "text": [
      "enter a num:4\n",
      "even\n"
     ]
    }
   ],
   "source": [
    "n= int (input(\"enter a num:\"))\n",
    "if n%2 ==0 :\n",
    "    print(\"even\")\n",
    "else :\n",
    "    print (\"odd\")\n",
    "    \n"
   ]
  },
  {
   "cell_type": "markdown",
   "metadata": {},
   "source": [
    "##### Check the num is even r odd and then check whether it is divisible by 4 or not.If it is odd check whether it is divisible by 3 or not"
   ]
  },
  {
   "cell_type": "code",
   "execution_count": 21,
   "metadata": {},
   "outputs": [
    {
     "name": "stdout",
     "output_type": "stream",
     "text": [
      "enter a num:56\n",
      "even\n",
      "divisible by 4\n"
     ]
    }
   ],
   "source": [
    "n= int (input(\"enter a num:\"))\n",
    "if n%2 ==0 :\n",
    "    print(\"even\")\n",
    "    if n%4 ==0 :\n",
    "        print(\"divisible by 4\")\n",
    "    else :\n",
    "        print(\"not divisible by 4\")\n",
    "else :\n",
    "    print (\"odd\")\n",
    "    if n%3 ==0 :\n",
    "        print(\"divisible by 3\")\n",
    "    else:\n",
    "        print(\" not divisible by 3\")\n",
    "        "
   ]
  },
  {
   "cell_type": "markdown",
   "metadata": {},
   "source": [
    "#### Check if given year is leap year  "
   ]
  },
  {
   "cell_type": "code",
   "execution_count": 31,
   "metadata": {},
   "outputs": [
    {
     "name": "stdout",
     "output_type": "stream",
     "text": [
      "enter year:1997\n",
      "not leap year\n"
     ]
    }
   ],
   "source": [
    "year = int(input(\"enter year:\"))\n",
    "if year%400 ==0 or (year%4==0 and year % 100!=0) :\n",
    "    print (\"leap year\")\n",
    "else :\n",
    "    print(\"not leap year\")"
   ]
  },
  {
   "cell_type": "markdown",
   "metadata": {},
   "source": [
    "#### Check if a number is existed in a given range(inclusive)"
   ]
  },
  {
   "cell_type": "code",
   "execution_count": 38,
   "metadata": {},
   "outputs": [
    {
     "name": "stdout",
     "output_type": "stream",
     "text": [
      "enter a number:20\n",
      "no\n"
     ]
    }
   ],
   "source": [
    "n=int(input(\"enter a number:\"))\n",
    "l=50\n",
    "u=150\n",
    "if (n in range(l,u) ):\n",
    "    print (\"yes\")\n",
    "else:\n",
    "    print(\"no\")\n",
    "    "
   ]
  },
  {
   "cell_type": "code",
   "execution_count": 41,
   "metadata": {},
   "outputs": [
    {
     "name": "stdout",
     "output_type": "stream",
     "text": [
      "enter a num:24\n",
      "not multiple of 10\n"
     ]
    }
   ],
   "source": [
    "### Check if a number is multiple of 10\n",
    "n= int(input(\"enter a num:\"))\n",
    "if n%10==0 :\n",
    "    print(\"multiple of 10\")\n",
    "else:\n",
    "      print(\"not multiple of 10\")\n"
   ]
  },
  {
   "cell_type": "code",
   "execution_count": 45,
   "metadata": {},
   "outputs": [
    {
     "name": "stdout",
     "output_type": "stream",
     "text": [
      "enter a num:300\n",
      "not factor\n"
     ]
    }
   ],
   "source": [
    "#### Check if a number is a factors of 100\n",
    "n=int(input(\"enter a num:\"))\n",
    "if 100%n==0 :\n",
    "    print(\"factor\")\n",
    "else:\n",
    "    print(\"not factor\")\n"
   ]
  },
  {
   "cell_type": "code",
   "execution_count": 46,
   "metadata": {},
   "outputs": [
    {
     "name": "stdout",
     "output_type": "stream",
     "text": [
      "not equal\n"
     ]
    }
   ],
   "source": [
    "#### Check if a string is equal to a number \n",
    "num =12345\n",
    "st  = \"python\"\n",
    "if str(num)==st:\n",
    "    print(\"equal\")\n",
    "else :\n",
    "    print(\"not equal\")\n"
   ]
  },
  {
   "cell_type": "code",
   "execution_count": 51,
   "metadata": {},
   "outputs": [
    {
     "name": "stdout",
     "output_type": "stream",
     "text": [
      "enter year:2016\n",
      "leap year\n",
      "0.0316224\n"
     ]
    }
   ],
   "source": [
    "### Calculate the number of nanoseconds in a given year(Consider leap year logic)\n",
    "year = int(input(\"enter year:\"))\n",
    "if year%400 ==0 or (year%4==0 and year % 100!=0) :\n",
    "    print (\"leap year\")\n",
    "    print(366*24*60*60*(10**-9))\n",
    "else:\n",
    "    print(\"not leap year\")\n",
    "    print(366*24*60*60*(10**-9))\n",
    "    "
   ]
  },
  {
   "cell_type": "markdown",
   "metadata": {},
   "source": [
    "### 3.elif statement"
   ]
  },
  {
   "cell_type": "code",
   "execution_count": 54,
   "metadata": {},
   "outputs": [
    {
     "name": "stdout",
     "output_type": "stream",
     "text": [
      "enter num:868\n",
      "enter num:5664\n",
      "enter num:3339094\n",
      "c is greater\n"
     ]
    }
   ],
   "source": [
    "# Find the greatest of 3 numbers\n",
    "a=int (input(\"enter num:\"))\n",
    "b=int(input(\"enter num:\"))\n",
    "c= int(input(\"enter num:\"))\n",
    "if (a>b and a>c):\n",
    "    print(\"a is greater\")\n",
    "elif(b>a and b>c):\n",
    "    print(\"b is greater\")\n",
    "else :\n",
    "    print(\"c is greater\")"
   ]
  },
  {
   "cell_type": "code",
   "execution_count": 60,
   "metadata": {},
   "outputs": [
    {
     "name": "stdout",
     "output_type": "stream",
     "text": [
      "enter marks:99\n",
      "EX grade\n"
     ]
    }
   ],
   "source": [
    "# Print the grades of marks \n",
    "m=int(input(\"enter marks:\"))\n",
    "if m>40 and m<50 :\n",
    "    print(\"P grade\")\n",
    "elif m>50 and m<60 :\n",
    "    print(\"D grade\")\n",
    "elif m>60 and m<70 :\n",
    "    print(\"C grade\")\n",
    "elif m>70 and m<80 :\n",
    "    print(\"B grade\")\n",
    "elif m>80 and m<90 :\n",
    "    print(\"A grade\")\n",
    "elif m>90 and m<=99 :\n",
    "    print(\"EX grade\")\n",
    "else :\n",
    "    print(\"F grade\")"
   ]
  },
  {
   "cell_type": "markdown",
   "metadata": {},
   "source": [
    "### 4.Nested if"
   ]
  },
  {
   "cell_type": "code",
   "execution_count": 70,
   "metadata": {},
   "outputs": [
    {
     "name": "stdout",
     "output_type": "stream",
     "text": [
      "enter num:-3\n",
      "Negative\n"
     ]
    }
   ],
   "source": [
    "#Check the given number is +ve or -ve or 0\n",
    "n=int(input(\"enter num:\"))\n",
    "if n>=0:\n",
    "    if (n==0):\n",
    "        print(\"Zero\")\n",
    "    else:\n",
    "        print(\"positive\")\n",
    "else:\n",
    "    print(\"Negative\")\n",
    "        "
   ]
  },
  {
   "cell_type": "markdown",
   "metadata": {},
   "source": [
    "### Tasks :"
   ]
  },
  {
   "cell_type": "code",
   "execution_count": 77,
   "metadata": {},
   "outputs": [
    {
     "name": "stdout",
     "output_type": "stream",
     "text": [
      "enter a number:34767382388\n",
      "11\n"
     ]
    }
   ],
   "source": [
    "#Check the number of digits in a given number\n",
    "n=int(input(\"enter a number:\"))\n",
    "f=str(n)\n",
    "print(len(f))\n"
   ]
  },
  {
   "cell_type": "code",
   "execution_count": 62,
   "metadata": {},
   "outputs": [],
   "source": [
    "#Check if the number is a factor of 1000\n",
    "n=int(input(\"enter a num:\"))\n",
    "if 1000%n==0 :\n",
    "    print(\"factor\")\n",
    "else:\n",
    "    print(\"not factor\")\n"
   ]
  },
  {
   "cell_type": "code",
   "execution_count": 75,
   "metadata": {},
   "outputs": [
    {
     "ename": "SyntaxError",
     "evalue": "invalid syntax (<ipython-input-75-8f986670f8e4>, line 3)",
     "output_type": "error",
     "traceback": [
      "\u001b[1;36m  File \u001b[1;32m\"<ipython-input-75-8f986670f8e4>\"\u001b[1;36m, line \u001b[1;32m3\u001b[0m\n\u001b[1;33m    print(n^1/2))\u001b[0m\n\u001b[1;37m                ^\u001b[0m\n\u001b[1;31mSyntaxError\u001b[0m\u001b[1;31m:\u001b[0m invalid syntax\n"
     ]
    }
   ],
   "source": [
    "#Calculate the squareroot of a given number \n",
    "n=int(input(\"enter number:\"))\n",
    "print(n^1/2))"
   ]
  },
  {
   "cell_type": "code",
   "execution_count": 82,
   "metadata": {},
   "outputs": [
    {
     "name": "stdout",
     "output_type": "stream",
     "text": [
      "120\n"
     ]
    }
   ],
   "source": [
    "#factorial of a given number\n",
    "def factorial(n):\n",
    "    if n>1:\n",
    "        return n*factorial(n-1)\n",
    "    else:\n",
    "        return n\n",
    "fact = factorial(5)\n",
    "print(fact)"
   ]
  },
  {
   "cell_type": "code",
   "execution_count": 83,
   "metadata": {},
   "outputs": [
    {
     "data": {
      "text/plain": [
       "True"
      ]
     },
     "execution_count": 83,
     "metadata": {},
     "output_type": "execute_result"
    }
   ],
   "source": [
    "#Function to check if a string is a palindrome\n",
    "def palindrome(s):\n",
    "    if s==s[::-1]:\n",
    "        return True\n",
    "    else:\n",
    "        return False\n",
    "palindrome(\"malayalam\")"
   ]
  },
  {
   "cell_type": "code",
   "execution_count": 89,
   "metadata": {},
   "outputs": [
    {
     "name": "stdout",
     "output_type": "stream",
     "text": [
      "enter year:2016\n",
      "leap year\n"
     ]
    }
   ],
   "source": [
    "#Function to check if a year is leapyear or not\n",
    "def leap(n):\n",
    "    n=int(input(\"enter year:\"))\n",
    "    if n%400==0 or (n%4==0 and n%100!=0):\n",
    "        print(\"leap year\")\n",
    "    else:\n",
    "        print(\"not leap year\")\n",
    "leap(n)"
   ]
  },
  {
   "cell_type": "code",
   "execution_count": 92,
   "metadata": {},
   "outputs": [
    {
     "name": "stdout",
     "output_type": "stream",
     "text": [
      "enter a number:123123\n",
      "6\n"
     ]
    }
   ],
   "source": [
    "#Functio to count number of didgits in a number\n",
    "def count(n):\n",
    "    n=int(input(\"enter a number:\"))\n",
    "    f=str(n)\n",
    "    print(len(f))\n",
    "count(n)\n",
    "\n",
    "    \n"
   ]
  },
  {
   "cell_type": "code",
   "execution_count": 95,
   "metadata": {},
   "outputs": [
    {
     "name": "stdout",
     "output_type": "stream",
     "text": [
      "enter num:342\n",
      "enter num:6547\n",
      "enter num:342\n",
      "enter num:24235\n",
      "d is greater\n"
     ]
    }
   ],
   "source": [
    "#Function to identify the greatest of 4 numbers\n",
    "def great():\n",
    "    a=int (input(\"enter num:\"))\n",
    "    b=int(input(\"enter num:\"))\n",
    "    c= int(input(\"enter num:\"))\n",
    "    d= int(input(\"enter num:\"))\n",
    "    if (a>b and a>c and a>d):\n",
    "        print(\"a is greater\")\n",
    "    elif(b>a and b>c and b>d):\n",
    "        print(\"b is greater\")\n",
    "    elif(c>a and c>b and c>d):\n",
    "        print(\"c is greater\")\n",
    "    else :\n",
    "        print(\"d is greater\")\n",
    "great()"
   ]
  },
  {
   "cell_type": "code",
   "execution_count": null,
   "metadata": {},
   "outputs": [],
   "source": []
  }
 ],
 "metadata": {
  "kernelspec": {
   "display_name": "Python 3",
   "language": "python",
   "name": "python3"
  },
  "language_info": {
   "codemirror_mode": {
    "name": "ipython",
    "version": 3
   },
   "file_extension": ".py",
   "mimetype": "text/x-python",
   "name": "python",
   "nbconvert_exporter": "python",
   "pygments_lexer": "ipython3",
   "version": "3.7.3"
  }
 },
 "nbformat": 4,
 "nbformat_minor": 2
}
