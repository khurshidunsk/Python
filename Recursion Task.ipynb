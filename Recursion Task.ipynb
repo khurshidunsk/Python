{
 "cells": [
  {
   "cell_type": "code",
   "execution_count": 2,
   "metadata": {},
   "outputs": [
    {
     "name": "stdout",
     "output_type": "stream",
     "text": [
      "enter number:5\n",
      "not prime\n"
     ]
    }
   ],
   "source": [
    "# Function to check if a given number is prime or not\n",
    "def isPrime(num,i):\n",
    "    if num==i:\n",
    "        return 1\n",
    "    else:\n",
    "        if num%i==0:\n",
    "            return False\n",
    "        else:\n",
    "            return 0+isPrime(num-1,i+1)\n",
    "num=int(input(\"enter number:\"))\n",
    "res=isPrime(num,2)\n",
    "if res==1:\n",
    "    print(\"prime\")\n",
    "else:\n",
    "    print(\"not prime\")"
   ]
  },
  {
   "cell_type": "code",
   "execution_count": null,
   "metadata": {},
   "outputs": [],
   "source": []
  }
 ],
 "metadata": {
  "kernelspec": {
   "display_name": "Python 3",
   "language": "python",
   "name": "python3"
  },
  "language_info": {
   "codemirror_mode": {
    "name": "ipython",
    "version": 3
   },
   "file_extension": ".py",
   "mimetype": "text/x-python",
   "name": "python",
   "nbconvert_exporter": "python",
   "pygments_lexer": "ipython3",
   "version": "3.7.3"
  }
 },
 "nbformat": 4,
 "nbformat_minor": 2
}
