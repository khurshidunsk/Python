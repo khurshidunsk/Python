{
 "cells": [
  {
   "cell_type": "markdown",
   "metadata": {},
   "source": [
    "# File Hansling Functions in Python\n",
    "- Collection of data\n",
    "### Methods (Built-in Functions)\n",
    "- 1.open()\n",
    "- 2.close()\n",
    "- Files contains 3 types of modes\n",
    "- 1.read()\n",
    "- --->read()\n",
    "- --->readline()\n",
    "- --->readlines()\n",
    "- 2.write()\n",
    "- 3.append()"
   ]
  },
  {
   "cell_type": "markdown",
   "metadata": {},
   "source": [
    "#### To create a file using \"write\" mode"
   ]
  },
  {
   "cell_type": "code",
   "execution_count": 6,
   "metadata": {},
   "outputs": [
    {
     "name": "stdout",
     "output_type": "stream",
     "text": [
      "4\n"
     ]
    }
   ],
   "source": [
    "f=open(\"files1.txt\",\"w\")\n",
    "f2=f.write(\"sonu\")\n",
    "print(f2)\n",
    "f.close()"
   ]
  },
  {
   "cell_type": "markdown",
   "metadata": {},
   "source": [
    " #### To read a file using \"read\" mode"
   ]
  },
  {
   "cell_type": "code",
   "execution_count": 15,
   "metadata": {},
   "outputs": [
    {
     "name": "stdout",
     "output_type": "stream",
     "text": [
      "sonu\n",
      "python\n",
      "python course\n",
      "sonu training\n",
      "sonu training mstp\n"
     ]
    }
   ],
   "source": [
    "f=open(\"files1.txt\",\"r\")\n",
    "f2=f.read()\n",
    "print(f2)\n",
    "f.close()"
   ]
  },
  {
   "cell_type": "code",
   "execution_count": 16,
   "metadata": {},
   "outputs": [
    {
     "name": "stdout",
     "output_type": "stream",
     "text": [
      "sonu\n",
      "\n"
     ]
    }
   ],
   "source": [
    "f=open(\"files1.txt\",\"r\")\n",
    "f2=f.readline()\n",
    "print(f2)\n",
    "f.close()"
   ]
  },
  {
   "cell_type": "code",
   "execution_count": 142,
   "metadata": {},
   "outputs": [
    {
     "name": "stdout",
     "output_type": "stream",
     "text": [
      "['sonu123\\n', 'python\\n', 'python course']\n"
     ]
    }
   ],
   "source": [
    "f=open(\"files1.txt\",\"r\")\n",
    "f2=f.readlines()\n",
    "print(f2)\n",
    "f.close()"
   ]
  },
  {
   "cell_type": "code",
   "execution_count": 24,
   "metadata": {},
   "outputs": [
    {
     "data": {
      "text/plain": [
       "'sonu\\npython\\npython course\\nsonu training\\nsonu training mstp'"
      ]
     },
     "execution_count": 24,
     "metadata": {},
     "output_type": "execute_result"
    }
   ],
   "source": [
    "### Uisng functions\n",
    "def readFile(filepath):\n",
    "    with open(filepath,\"r\") as f :\n",
    "        s=f.read()\n",
    "    return s\n",
    "\n",
    "filepath=\"files1.txt\"\n",
    "readFile(filepath)"
   ]
  },
  {
   "cell_type": "code",
   "execution_count": 143,
   "metadata": {},
   "outputs": [
    {
     "name": "stdout",
     "output_type": "stream",
     "text": [
      "sonu123\n",
      "\n",
      "python\n",
      "\n",
      "python course\n"
     ]
    }
   ],
   "source": [
    "# using for loop\n",
    "f=open(\"files1.txt\",\"r\")\n",
    "for line in f:\n",
    "    print(line)"
   ]
  },
  {
   "cell_type": "code",
   "execution_count": 34,
   "metadata": {},
   "outputs": [
    {
     "name": "stdout",
     "output_type": "stream",
     "text": [
      "s\n",
      "o\n",
      "n\n",
      "u\n",
      "\n",
      "\n"
     ]
    }
   ],
   "source": [
    "### Using readline()\n",
    "f=open(\"files1.txt\",\"r\")\n",
    "for line in f.readline():\n",
    "    print(line)"
   ]
  },
  {
   "cell_type": "code",
   "execution_count": 31,
   "metadata": {},
   "outputs": [
    {
     "name": "stdout",
     "output_type": "stream",
     "text": [
      "s\n",
      "o\n",
      "n\n",
      "u\n",
      "\n",
      "\n",
      "p\n",
      "y\n",
      "t\n",
      "h\n",
      "o\n",
      "n\n",
      "\n",
      "\n",
      "p\n",
      "y\n",
      "t\n",
      "h\n",
      "o\n",
      "n\n",
      " \n",
      "c\n",
      "o\n",
      "u\n",
      "r\n",
      "s\n",
      "e\n",
      "\n",
      "\n",
      "s\n",
      "o\n",
      "n\n",
      "u\n",
      " \n",
      "t\n",
      "r\n",
      "a\n",
      "i\n",
      "n\n",
      "i\n",
      "n\n",
      "g\n",
      "\n",
      "\n",
      "s\n",
      "o\n",
      "n\n",
      "u\n",
      " \n",
      "t\n",
      "r\n",
      "a\n",
      "i\n",
      "n\n",
      "i\n",
      "n\n",
      "g\n",
      " \n",
      "m\n",
      "s\n",
      "t\n",
      "p\n"
     ]
    }
   ],
   "source": [
    "## Using read()\n",
    "f=open(\"files1.txt\",\"r\")\n",
    "for line in f.read():\n",
    "    print(line)"
   ]
  },
  {
   "cell_type": "code",
   "execution_count": 32,
   "metadata": {},
   "outputs": [
    {
     "name": "stdout",
     "output_type": "stream",
     "text": [
      "sonu\n",
      "\n",
      "python\n",
      "\n",
      "python course\n",
      "\n",
      "sonu training\n",
      "\n",
      "sonu training mstp\n"
     ]
    }
   ],
   "source": [
    "# Using readlines()\n",
    "f=open(\"files1.txt\",\"r\")\n",
    "for line in f.readlines():\n",
    "    print(line)"
   ]
  },
  {
   "cell_type": "code",
   "execution_count": 36,
   "metadata": {},
   "outputs": [
    {
     "name": "stdout",
     "output_type": "stream",
     "text": [
      "s\n",
      "o\n",
      "n\n",
      "u\n",
      "1\n"
     ]
    }
   ],
   "source": [
    "## To get just 5 letters from the lines\n",
    "f=open(\"files1.txt\",\"r\")\n",
    "for line in f.read(5):\n",
    "    print(line)"
   ]
  },
  {
   "cell_type": "code",
   "execution_count": 52,
   "metadata": {},
   "outputs": [
    {
     "name": "stdout",
     "output_type": "stream",
     "text": [
      "line 1 : sonu123\n",
      "\n",
      "line 2 : python\n",
      "\n",
      "line 3 : python course\n",
      "\n",
      "line 4 : sonu training\n",
      "\n",
      "line 5 : sonu training mstp\n"
     ]
    }
   ],
   "source": [
    "#Write a program to count no.of lines and charecters in a file\n",
    "# Output:\n",
    "# 1.Line 1 : Character count\n",
    "# 2.Line 2 : Cahracter count\n",
    "f=open(\"files1.txt\",\"r\")\n",
    "count=0\n",
    "for line in f.readlines():\n",
    "    count=count+1\n",
    "    print(\"line\",count,\":\",line)"
   ]
  },
  {
   "cell_type": "code",
   "execution_count": 72,
   "metadata": {},
   "outputs": [
    {
     "name": "stdout",
     "output_type": "stream",
     "text": [
      "Number of words: 9\n"
     ]
    }
   ],
   "source": [
    "# Write a program to count no.of words in a file\n",
    "f=open(\"files1.txt\",\"r\")\n",
    "count = 0\n",
    "with open(fname, 'r') as f:\n",
    "    for line in f:\n",
    "        words = line.split()\n",
    "        count=count+len(words)\n",
    "print(\"Number of words:\",count)\n"
   ]
  },
  {
   "cell_type": "code",
   "execution_count": 82,
   "metadata": {},
   "outputs": [
    {
     "name": "stdout",
     "output_type": "stream",
     "text": [
      "name1: 9603853714 skkhurshidun@gamil.com\n",
      "\n"
     ]
    }
   ],
   "source": [
    "# Write a program to search a name in contacts\n",
    "import re\n",
    "def searchContact(name):\n",
    "    with open(\"file1.txt\",'r') as f:\n",
    "        for i in f.readlines():\n",
    "            if re.search(name,i):\n",
    "                print(i)\n",
    "#search(\"name1\")\n",
    "searchContact(\"name1\")\n"
   ]
  },
  {
   "cell_type": "code",
   "execution_count": 110,
   "metadata": {},
   "outputs": [
    {
     "name": "stdout",
     "output_type": "stream",
     "text": [
      "7\n"
     ]
    }
   ],
   "source": [
    "# Writing a file using append()\n",
    "f=open(\"files1.txt\",\"a\")\n",
    "f1=f.write(\"sonu123\")\n",
    "print(f1)\n",
    "f.close()"
   ]
  },
  {
   "cell_type": "code",
   "execution_count": 109,
   "metadata": {},
   "outputs": [
    {
     "name": "stdout",
     "output_type": "stream",
     "text": [
      "line 0 : 32\n"
     ]
    }
   ],
   "source": [
    "## Write a program to count no.of charecters for a line\n",
    "f=open(\"files1.txt\",\"r\")\n",
    "count=0\n",
    "for line in f.readlines():\n",
    "    count=count+1\n",
    "print(\"line\",count,\":\",len(line))"
   ]
  },
  {
   "cell_type": "code",
   "execution_count": 146,
   "metadata": {},
   "outputs": [
    {
     "name": "stdout",
     "output_type": "stream",
     "text": [
      "['sonu123\\n', 'python\\n', 'python course']\n"
     ]
    }
   ],
   "source": [
    "# Write a program to read file line by line and store in it a list\n",
    "f=open(\"files1.txt\",\"r\")\n",
    "l=[]\n",
    "count=0\n",
    "for line in f.readlines():\n",
    "    #for i in line:\n",
    "    count=count+1\n",
    "    #print(\"line\",count,\":\",line)\n",
    "    s=l.append(line)\n",
    "print(l)"
   ]
  },
  {
   "cell_type": "markdown",
   "metadata": {},
   "source": [
    "# Packages"
   ]
  },
  {
   "cell_type": "code",
   "execution_count": 163,
   "metadata": {},
   "outputs": [
    {
     "data": {
      "text/plain": [
       "[('a', 5), ('b', 2), ('r', 2)]"
      ]
     },
     "execution_count": 163,
     "metadata": {},
     "output_type": "execute_result"
    }
   ],
   "source": [
    "Counter('abracadabra').most_common(3)"
   ]
  },
  {
   "cell_type": "code",
   "execution_count": 161,
   "metadata": {},
   "outputs": [
    {
     "data": {
      "text/plain": [
       "Counter({'sonu123': 1, 'python': 3, 'course': 1})"
      ]
     },
     "execution_count": 161,
     "metadata": {},
     "output_type": "execute_result"
    }
   ],
   "source": [
    "# Write a to count the frequency of each word using packages\n",
    "from collections import Counter\n",
    "def wordfreq(filepath):\n",
    "    with open(filepath,\"r\") as f:\n",
    "        return Counter(f.read().split())\n",
    "wordfreq(filepath)"
   ]
  },
  {
   "cell_type": "code",
   "execution_count": 165,
   "metadata": {},
   "outputs": [
    {
     "data": {
      "text/plain": [
       "Counter({'a': 3, 'b': 0, 'c': -3, 'd': -6})"
      ]
     },
     "execution_count": 165,
     "metadata": {},
     "output_type": "execute_result"
    }
   ],
   "source": [
    "c = Counter(a=4, b=2, c=0, d=-2)\n",
    "d = Counter(a=1, b=2, c=3, d=4)\n",
    "c.subtract(d)\n",
    "c"
   ]
  },
  {
   "cell_type": "code",
   "execution_count": 166,
   "metadata": {},
   "outputs": [
    {
     "data": {
      "text/plain": [
       "['a', 'a', 'a', 'a', 'b', 'b']"
      ]
     },
     "execution_count": 166,
     "metadata": {},
     "output_type": "execute_result"
    }
   ],
   "source": [
    "c = Counter(a=4, b=2, c=0, d=-2)\n",
    "list(c.elements())"
   ]
  },
  {
   "cell_type": "code",
   "execution_count": 171,
   "metadata": {},
   "outputs": [],
   "source": [
    "#Write a program to print random numbers using packages\n",
    "from random import randint\n",
    "def marks(n,lb,ub):\n",
    "    with open('marks.txt','w') as f:\n",
    "        for i in range(0,n):\n",
    "            r=randint(lb,ub)\n",
    "            f.write(str(r)+'\\n')\n",
    "    return \n",
    "marks(100,0,100)"
   ]
  },
  {
   "cell_type": "markdown",
   "metadata": {},
   "source": [
    "### tell() and seek() Methods"
   ]
  },
  {
   "cell_type": "code",
   "execution_count": 185,
   "metadata": {},
   "outputs": [
    {
     "name": "stdout",
     "output_type": "stream",
     "text": [
      "35\n"
     ]
    }
   ],
   "source": [
    "f=open(\"files1.txt\",\"r\")\n",
    "f.read()\n",
    "print(f.tell())\n",
    "f.close()"
   ]
  },
  {
   "cell_type": "code",
   "execution_count": 195,
   "metadata": {},
   "outputs": [
    {
     "name": "stdout",
     "output_type": "stream",
     "text": [
      "57 kb\n"
     ]
    }
   ],
   "source": [
    "# Program to get the size of the file\n",
    "import os\n",
    "print(os.path.getsize(\"files1.txt\"),\"kb\")\n"
   ]
  },
  {
   "cell_type": "code",
   "execution_count": null,
   "metadata": {},
   "outputs": [],
   "source": []
  }
 ],
 "metadata": {
  "kernelspec": {
   "display_name": "Python 3",
   "language": "python",
   "name": "python3"
  },
  "language_info": {
   "codemirror_mode": {
    "name": "ipython",
    "version": 3
   },
   "file_extension": ".py",
   "mimetype": "text/x-python",
   "name": "python",
   "nbconvert_exporter": "python",
   "pygments_lexer": "ipython3",
   "version": "3.7.3"
  }
 },
 "nbformat": 4,
 "nbformat_minor": 2
}
